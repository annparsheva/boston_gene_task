{
 "cells": [
  {
   "cell_type": "code",
   "execution_count": 172,
   "id": "23a3ade3",
   "metadata": {},
   "outputs": [],
   "source": [
    "import os\n",
    "import math\n",
    "import numpy as np\n",
    "import pandas as pd\n",
    "import plotly.express as px\n",
    "import plotly.graph_objects as go"
   ]
  },
  {
   "cell_type": "code",
   "execution_count": 173,
   "id": "55823b7a",
   "metadata": {},
   "outputs": [],
   "source": [
    "red_color=\"#E93F36\"\n",
    "blue_color = \"#04104E\""
   ]
  },
  {
   "cell_type": "code",
   "execution_count": 174,
   "id": "dafa09d9",
   "metadata": {},
   "outputs": [],
   "source": [
    "data_path = \"data\"\n",
    "data_file_name = \"Benchling_updated.csv\"\n",
    "\n",
    "df = pd.read_csv(os.path.join(data_path,data_file_name))"
   ]
  },
  {
   "cell_type": "markdown",
   "id": "5e34f646",
   "metadata": {},
   "source": [
    "## Сводная информация по всей БД "
   ]
  },
  {
   "cell_type": "code",
   "execution_count": 175,
   "id": "f4d9eecf",
   "metadata": {},
   "outputs": [
    {
     "data": {
      "text/html": [
       "<div>\n",
       "<style scoped>\n",
       "    .dataframe tbody tr th:only-of-type {\n",
       "        vertical-align: middle;\n",
       "    }\n",
       "\n",
       "    .dataframe tbody tr th {\n",
       "        vertical-align: top;\n",
       "    }\n",
       "\n",
       "    .dataframe thead th {\n",
       "        text-align: right;\n",
       "    }\n",
       "</style>\n",
       "<table border=\"1\" class=\"dataframe\">\n",
       "  <thead>\n",
       "    <tr style=\"text-align: right;\">\n",
       "      <th></th>\n",
       "      <th>Run</th>\n",
       "      <th>Sample sheet_Sample_ID</th>\n",
       "      <th>Clinical/RnD</th>\n",
       "      <th>Support</th>\n",
       "      <th>Сlinical QC Required</th>\n",
       "      <th>Is it top off seq?</th>\n",
       "      <th>Is it reseq?</th>\n",
       "      <th>Sample target</th>\n",
       "      <th>FlowCell</th>\n",
       "      <th>Project</th>\n",
       "      <th>...</th>\n",
       "      <th>Extraction kit</th>\n",
       "      <th>Library construction kit</th>\n",
       "      <th>Library prob set kit</th>\n",
       "      <th>Case_ID (patient ID)</th>\n",
       "      <th>Specimen_ID</th>\n",
       "      <th>Library Lab_ID \\n(unique)</th>\n",
       "      <th>Extract BG_ID</th>\n",
       "      <th>Patient BG_ID</th>\n",
       "      <th>Sample BG_ID</th>\n",
       "      <th>Library Concentration</th>\n",
       "    </tr>\n",
       "  </thead>\n",
       "  <tbody>\n",
       "    <tr>\n",
       "      <th>0</th>\n",
       "      <td>230512_NovaD_XTHS2</td>\n",
       "      <td>WES-normal-230512_NovaD_Sample_1</td>\n",
       "      <td>RnD</td>\n",
       "      <td>No</td>\n",
       "      <td>No</td>\n",
       "      <td>NaN</td>\n",
       "      <td>NaN</td>\n",
       "      <td>NaN</td>\n",
       "      <td>S1</td>\n",
       "      <td>Coverage map</td>\n",
       "      <td>...</td>\n",
       "      <td>Maxwell RSC Stabilized Saliva DNA Kit</td>\n",
       "      <td>Agilent XTHS2 RNA</td>\n",
       "      <td>V8+UTR</td>\n",
       "      <td>PT003656</td>\n",
       "      <td>NaN</td>\n",
       "      <td>LIB007782</td>\n",
       "      <td>D003471</td>\n",
       "      <td>RS003047</td>\n",
       "      <td>RS003047_N_S</td>\n",
       "      <td>126</td>\n",
       "    </tr>\n",
       "    <tr>\n",
       "      <th>1</th>\n",
       "      <td>230512_NovaD_XTHS2</td>\n",
       "      <td>WES-normal-230512_NovaD_Sample_2</td>\n",
       "      <td>RnD</td>\n",
       "      <td>No</td>\n",
       "      <td>No</td>\n",
       "      <td>NaN</td>\n",
       "      <td>NaN</td>\n",
       "      <td>NaN</td>\n",
       "      <td>S1</td>\n",
       "      <td>Coverage map</td>\n",
       "      <td>...</td>\n",
       "      <td>Maxwell RSC Stabilized Saliva DNA Kit</td>\n",
       "      <td>Agilent XTHS2 RNA</td>\n",
       "      <td>V8+UTR</td>\n",
       "      <td>PT003657</td>\n",
       "      <td>NaN</td>\n",
       "      <td>LIB007783</td>\n",
       "      <td>D003472</td>\n",
       "      <td>RS003048</td>\n",
       "      <td>RS003048_N_S</td>\n",
       "      <td>104</td>\n",
       "    </tr>\n",
       "    <tr>\n",
       "      <th>2</th>\n",
       "      <td>230512_NovaD_XTHS2</td>\n",
       "      <td>WES-normal-230512_NovaD_Sample_3</td>\n",
       "      <td>RnD</td>\n",
       "      <td>No</td>\n",
       "      <td>No</td>\n",
       "      <td>NaN</td>\n",
       "      <td>NaN</td>\n",
       "      <td>NaN</td>\n",
       "      <td>S1</td>\n",
       "      <td>Coverage map</td>\n",
       "      <td>...</td>\n",
       "      <td>Maxwell RSC Stabilized Saliva DNA Kit</td>\n",
       "      <td>Agilent XTHS2 RNA</td>\n",
       "      <td>V8+UTR</td>\n",
       "      <td>PT003658</td>\n",
       "      <td>NaN</td>\n",
       "      <td>LIB007784</td>\n",
       "      <td>D003473</td>\n",
       "      <td>RS003049</td>\n",
       "      <td>RS003049_N_S</td>\n",
       "      <td>105</td>\n",
       "    </tr>\n",
       "    <tr>\n",
       "      <th>3</th>\n",
       "      <td>230512_NovaD_XTHS2</td>\n",
       "      <td>WES-normal-230512_NovaD_Sample_4</td>\n",
       "      <td>RnD</td>\n",
       "      <td>No</td>\n",
       "      <td>No</td>\n",
       "      <td>NaN</td>\n",
       "      <td>NaN</td>\n",
       "      <td>NaN</td>\n",
       "      <td>S1</td>\n",
       "      <td>Coverage map</td>\n",
       "      <td>...</td>\n",
       "      <td>Maxwell RSC Stabilized Saliva DNA Kit</td>\n",
       "      <td>Agilent XTHS2 RNA</td>\n",
       "      <td>V8+UTR</td>\n",
       "      <td>PT003659</td>\n",
       "      <td>NaN</td>\n",
       "      <td>LIB007785</td>\n",
       "      <td>D003474</td>\n",
       "      <td>RS003050</td>\n",
       "      <td>RS003050_N_S</td>\n",
       "      <td>62</td>\n",
       "    </tr>\n",
       "    <tr>\n",
       "      <th>4</th>\n",
       "      <td>230512_NovaD_XTHS2</td>\n",
       "      <td>WES-normal-230512_NovaD_Sample_5</td>\n",
       "      <td>RnD</td>\n",
       "      <td>No</td>\n",
       "      <td>No</td>\n",
       "      <td>NaN</td>\n",
       "      <td>NaN</td>\n",
       "      <td>NaN</td>\n",
       "      <td>S1</td>\n",
       "      <td>Coverage map</td>\n",
       "      <td>...</td>\n",
       "      <td>Maxwell RSC Stabilized Saliva DNA Kit</td>\n",
       "      <td>Agilent XTHS2 RNA</td>\n",
       "      <td>V8+UTR</td>\n",
       "      <td>PT003660</td>\n",
       "      <td>NaN</td>\n",
       "      <td>LIB007786</td>\n",
       "      <td>D003475</td>\n",
       "      <td>RS003051</td>\n",
       "      <td>RS003051_N_S</td>\n",
       "      <td>39</td>\n",
       "    </tr>\n",
       "  </tbody>\n",
       "</table>\n",
       "<p>5 rows × 24 columns</p>\n",
       "</div>"
      ],
      "text/plain": [
       "                  Run            Sample sheet_Sample_ID Clinical/RnD Support  \\\n",
       "0  230512_NovaD_XTHS2  WES-normal-230512_NovaD_Sample_1          RnD      No   \n",
       "1  230512_NovaD_XTHS2  WES-normal-230512_NovaD_Sample_2          RnD      No   \n",
       "2  230512_NovaD_XTHS2  WES-normal-230512_NovaD_Sample_3          RnD      No   \n",
       "3  230512_NovaD_XTHS2  WES-normal-230512_NovaD_Sample_4          RnD      No   \n",
       "4  230512_NovaD_XTHS2  WES-normal-230512_NovaD_Sample_5          RnD      No   \n",
       "\n",
       "  Сlinical QC Required  Is it top off seq?  Is it reseq?  Sample target  \\\n",
       "0                   No                 NaN           NaN            NaN   \n",
       "1                   No                 NaN           NaN            NaN   \n",
       "2                   No                 NaN           NaN            NaN   \n",
       "3                   No                 NaN           NaN            NaN   \n",
       "4                   No                 NaN           NaN            NaN   \n",
       "\n",
       "  FlowCell       Project  ...                         Extraction kit  \\\n",
       "0       S1  Coverage map  ...  Maxwell RSC Stabilized Saliva DNA Kit   \n",
       "1       S1  Coverage map  ...  Maxwell RSC Stabilized Saliva DNA Kit   \n",
       "2       S1  Coverage map  ...  Maxwell RSC Stabilized Saliva DNA Kit   \n",
       "3       S1  Coverage map  ...  Maxwell RSC Stabilized Saliva DNA Kit   \n",
       "4       S1  Coverage map  ...  Maxwell RSC Stabilized Saliva DNA Kit   \n",
       "\n",
       "  Library construction kit Library prob set kit Case_ID (patient ID)  \\\n",
       "0        Agilent XTHS2 RNA               V8+UTR             PT003656   \n",
       "1        Agilent XTHS2 RNA               V8+UTR             PT003657   \n",
       "2        Agilent XTHS2 RNA               V8+UTR             PT003658   \n",
       "3        Agilent XTHS2 RNA               V8+UTR             PT003659   \n",
       "4        Agilent XTHS2 RNA               V8+UTR             PT003660   \n",
       "\n",
       "  Specimen_ID Library Lab_ID \\n(unique) Extract BG_ID Patient BG_ID  \\\n",
       "0         NaN                 LIB007782       D003471      RS003047   \n",
       "1         NaN                 LIB007783       D003472      RS003048   \n",
       "2         NaN                 LIB007784       D003473      RS003049   \n",
       "3         NaN                 LIB007785       D003474      RS003050   \n",
       "4         NaN                 LIB007786       D003475      RS003051   \n",
       "\n",
       "   Sample BG_ID Library Concentration  \n",
       "0  RS003047_N_S                   126  \n",
       "1  RS003048_N_S                   104  \n",
       "2  RS003049_N_S                   105  \n",
       "3  RS003050_N_S                    62  \n",
       "4  RS003051_N_S                    39  \n",
       "\n",
       "[5 rows x 24 columns]"
      ]
     },
     "execution_count": 175,
     "metadata": {},
     "output_type": "execute_result"
    }
   ],
   "source": [
    "df.head()"
   ]
  },
  {
   "cell_type": "markdown",
   "id": "39497d96",
   "metadata": {},
   "source": [
    "### Количество уникальных образцов"
   ]
  },
  {
   "cell_type": "code",
   "execution_count": 178,
   "id": "fd2bcf39",
   "metadata": {},
   "outputs": [
    {
     "data": {
      "text/plain": [
       "(2213,)"
      ]
     },
     "execution_count": 178,
     "metadata": {},
     "output_type": "execute_result"
    }
   ],
   "source": [
    "df[\"Sample sheet_Sample_ID\"].drop_duplicates().shape"
   ]
  },
  {
   "cell_type": "markdown",
   "id": "b4187075",
   "metadata": {},
   "source": [
    "### Сводная информация по каждому столбцу"
   ]
  },
  {
   "cell_type": "code",
   "execution_count": 179,
   "id": "8aa965f8",
   "metadata": {},
   "outputs": [
    {
     "name": "stdout",
     "output_type": "stream",
     "text": [
      "<class 'pandas.core.frame.DataFrame'>\n",
      "RangeIndex: 2213 entries, 0 to 2212\n",
      "Data columns (total 24 columns):\n",
      " #   Column                    Non-Null Count  Dtype  \n",
      "---  ------                    --------------  -----  \n",
      " 0   Run                       2213 non-null   object \n",
      " 1   Sample sheet_Sample_ID    2213 non-null   object \n",
      " 2   Clinical/RnD              2213 non-null   object \n",
      " 3   Support                   2213 non-null   object \n",
      " 4   Сlinical QC Required      2199 non-null   object \n",
      " 5   Is it top off seq?        0 non-null      float64\n",
      " 6   Is it reseq?              0 non-null      float64\n",
      " 7   Sample target             0 non-null      float64\n",
      " 8   FlowCell                  2213 non-null   object \n",
      " 9   Project                   2213 non-null   object \n",
      " 10  Source                    2213 non-null   object \n",
      " 11  Tumor/Normal              2213 non-null   object \n",
      " 12  Input material type       2213 non-null   object \n",
      " 13  Extraction \n",
      "place         466 non-null    object \n",
      " 14  Extraction kit            2213 non-null   object \n",
      " 15  Library construction kit  1756 non-null   object \n",
      " 16  Library prob set kit      892 non-null    object \n",
      " 17  Case_ID (patient ID)      1101 non-null   object \n",
      " 18  Specimen_ID               525 non-null    object \n",
      " 19  Library Lab_ID \n",
      "(unique)  2213 non-null   object \n",
      " 20  Extract BG_ID             2213 non-null   object \n",
      " 21  Patient BG_ID             2213 non-null   object \n",
      " 22  Sample BG_ID              2213 non-null   object \n",
      " 23  Library Concentration     2213 non-null   int64  \n",
      "dtypes: float64(3), int64(1), object(20)\n",
      "memory usage: 415.1+ KB\n"
     ]
    }
   ],
   "source": [
    "df.info()"
   ]
  },
  {
   "cell_type": "markdown",
   "id": "d1f2ece1",
   "metadata": {},
   "source": [
    "### Столбцы с пропущенными значениями"
   ]
  },
  {
   "cell_type": "code",
   "execution_count": 180,
   "id": "6cbfcacb",
   "metadata": {},
   "outputs": [],
   "source": [
    "df[\"Extraction kit\"] = df[\"Extraction kit\"].replace(\"Unknown\",np.nan)"
   ]
  },
  {
   "cell_type": "code",
   "execution_count": 181,
   "id": "3db5b065",
   "metadata": {},
   "outputs": [
    {
     "data": {
      "text/plain": [
       "['Сlinical QC Required',\n",
       " 'Is it top off seq?',\n",
       " 'Is it reseq?',\n",
       " 'Sample target',\n",
       " 'Extraction \\nplace',\n",
       " 'Extraction kit',\n",
       " 'Library construction kit',\n",
       " 'Library prob set kit',\n",
       " 'Case_ID (patient ID)',\n",
       " 'Specimen_ID']"
      ]
     },
     "execution_count": 181,
     "metadata": {},
     "output_type": "execute_result"
    }
   ],
   "source": [
    "nan_columns = [i for i in df.columns if df[i].isnull().any()]\n",
    "nan_columns"
   ]
  },
  {
   "cell_type": "markdown",
   "id": "6238f33d",
   "metadata": {},
   "source": [
    "## Аналитика столбцов участвующих в отчете"
   ]
  },
  {
   "cell_type": "markdown",
   "id": "d4c5e8eb",
   "metadata": {},
   "source": [
    "### Top-off/Reseq"
   ]
  },
  {
   "cell_type": "markdown",
   "id": "56fb49f2",
   "metadata": {},
   "source": [
    "#### Процент образцов по каждому проекту, не требующих Top-off или Reseq"
   ]
  },
  {
   "cell_type": "code",
   "execution_count": 228,
   "id": "55ed8687",
   "metadata": {},
   "outputs": [],
   "source": [
    "df[\"sample_by_project\"] = df.groupby(\"Project\")[\n",
    "    \"Sample sheet_Sample_ID\"\n",
    "].transform(\"nunique\")\n",
    "\n",
    "df[\"sample_by_extract\"] = df.groupby([\"Project\",\"Extract BG_ID\"])[\n",
    "    \"Sample sheet_Sample_ID\"\n",
    "].transform(\"nunique\")\n",
    "\n",
    "df[\"sample_by_library\"] = df.groupby(\n",
    "    [\"Project\",\"Extract BG_ID\", \"Library Lab_ID \\n(unique)\"]\n",
    ")[\"Sample sheet_Sample_ID\"].transform(\"nunique\")"
   ]
  },
  {
   "cell_type": "code",
   "execution_count": 229,
   "id": "6a32a6bb",
   "metadata": {},
   "outputs": [],
   "source": [
    "df[\"good_sample_flag\"] = np.select(\n",
    "    [\n",
    "        df[\"sample_by_extract\"] == 1\n",
    "    ],[True],default=False\n",
    ")"
   ]
  },
  {
   "cell_type": "code",
   "execution_count": 230,
   "id": "6329b0f6",
   "metadata": {},
   "outputs": [],
   "source": [
    "sample_report = (\n",
    "    df.groupby([\"Project\",\"sample_by_project\",\"good_sample_flag\"])\n",
    "    .agg({\"Sample sheet_Sample_ID\":\"nunique\"})\n",
    "    .reset_index()\n",
    ")"
   ]
  },
  {
   "cell_type": "code",
   "execution_count": 231,
   "id": "563c349f",
   "metadata": {},
   "outputs": [],
   "source": [
    "sample_report_pivoted = pd.pivot(\n",
    "    sample_report,\n",
    "    index=[\"Project\",\"sample_by_project\"],\n",
    "    columns=\"good_sample_flag\",\n",
    "    values=\"Sample sheet_Sample_ID\"\n",
    ").fillna(0).astype(int).reset_index()\n",
    "\n",
    "sample_report_pivoted[\"good_sample %\"] = round(\n",
    "    sample_report_pivoted[True] / sample_report_pivoted[\"sample_by_project\"] * 100,2\n",
    ")"
   ]
  },
  {
   "cell_type": "code",
   "execution_count": 234,
   "id": "f7b323d3",
   "metadata": {},
   "outputs": [
    {
     "data": {
      "text/html": [
       "<div>\n",
       "<style scoped>\n",
       "    .dataframe tbody tr th:only-of-type {\n",
       "        vertical-align: middle;\n",
       "    }\n",
       "\n",
       "    .dataframe tbody tr th {\n",
       "        vertical-align: top;\n",
       "    }\n",
       "\n",
       "    .dataframe thead th {\n",
       "        text-align: right;\n",
       "    }\n",
       "</style>\n",
       "<table border=\"1\" class=\"dataframe\">\n",
       "  <thead>\n",
       "    <tr style=\"text-align: right;\">\n",
       "      <th>good_sample_flag</th>\n",
       "      <th>sample_by_project</th>\n",
       "      <th>good_sample %</th>\n",
       "    </tr>\n",
       "    <tr>\n",
       "      <th>Project</th>\n",
       "      <th></th>\n",
       "      <th></th>\n",
       "    </tr>\n",
       "  </thead>\n",
       "  <tbody>\n",
       "    <tr>\n",
       "      <th>cfRNA Deconvolution</th>\n",
       "      <td>166</td>\n",
       "      <td>0.00</td>\n",
       "    </tr>\n",
       "    <tr>\n",
       "      <th>cfDNA</th>\n",
       "      <td>12</td>\n",
       "      <td>0.00</td>\n",
       "    </tr>\n",
       "    <tr>\n",
       "      <th>V8+UTR validation</th>\n",
       "      <td>94</td>\n",
       "      <td>0.00</td>\n",
       "    </tr>\n",
       "    <tr>\n",
       "      <th>UM.Valdes.BC.cfDNA</th>\n",
       "      <td>2</td>\n",
       "      <td>0.00</td>\n",
       "    </tr>\n",
       "    <tr>\n",
       "      <th>Heme validation</th>\n",
       "      <td>4</td>\n",
       "      <td>0.00</td>\n",
       "    </tr>\n",
       "    <tr>\n",
       "      <th>cfDNA TMB references</th>\n",
       "      <td>48</td>\n",
       "      <td>0.00</td>\n",
       "    </tr>\n",
       "    <tr>\n",
       "      <th>cfDNA Fusions</th>\n",
       "      <td>905</td>\n",
       "      <td>0.55</td>\n",
       "    </tr>\n",
       "    <tr>\n",
       "      <th>MDACC_Yam_Artemis</th>\n",
       "      <td>195</td>\n",
       "      <td>6.15</td>\n",
       "    </tr>\n",
       "    <tr>\n",
       "      <th>FEASY_trial</th>\n",
       "      <td>17</td>\n",
       "      <td>17.65</td>\n",
       "    </tr>\n",
       "    <tr>\n",
       "      <th>Immune Status</th>\n",
       "      <td>193</td>\n",
       "      <td>45.08</td>\n",
       "    </tr>\n",
       "    <tr>\n",
       "      <th>MGH.David Ting.PDAC</th>\n",
       "      <td>25</td>\n",
       "      <td>52.00</td>\n",
       "    </tr>\n",
       "    <tr>\n",
       "      <th>Other</th>\n",
       "      <td>93</td>\n",
       "      <td>59.14</td>\n",
       "    </tr>\n",
       "    <tr>\n",
       "      <th>WCMC_CUP_Sternberg_Retrospective</th>\n",
       "      <td>53</td>\n",
       "      <td>60.38</td>\n",
       "    </tr>\n",
       "    <tr>\n",
       "      <th>NCI_FL_Roschewski</th>\n",
       "      <td>79</td>\n",
       "      <td>64.56</td>\n",
       "    </tr>\n",
       "    <tr>\n",
       "      <th>Mayo_DIAL_Villasboas</th>\n",
       "      <td>32</td>\n",
       "      <td>68.75</td>\n",
       "    </tr>\n",
       "    <tr>\n",
       "      <th>cfDNA Plasma</th>\n",
       "      <td>16</td>\n",
       "      <td>87.50</td>\n",
       "    </tr>\n",
       "    <tr>\n",
       "      <th>MDA.Heymach.SCLC</th>\n",
       "      <td>93</td>\n",
       "      <td>97.85</td>\n",
       "    </tr>\n",
       "    <tr>\n",
       "      <th>MDA.Flowers.PTLD</th>\n",
       "      <td>31</td>\n",
       "      <td>100.00</td>\n",
       "    </tr>\n",
       "    <tr>\n",
       "      <th>HRS validation</th>\n",
       "      <td>1</td>\n",
       "      <td>100.00</td>\n",
       "    </tr>\n",
       "    <tr>\n",
       "      <th>HRD validation</th>\n",
       "      <td>54</td>\n",
       "      <td>100.00</td>\n",
       "    </tr>\n",
       "    <tr>\n",
       "      <th>WU.Huang.Meningioma</th>\n",
       "      <td>18</td>\n",
       "      <td>100.00</td>\n",
       "    </tr>\n",
       "    <tr>\n",
       "      <th>Coverage map</th>\n",
       "      <td>10</td>\n",
       "      <td>100.00</td>\n",
       "    </tr>\n",
       "    <tr>\n",
       "      <th>Cell Atlas</th>\n",
       "      <td>19</td>\n",
       "      <td>100.00</td>\n",
       "    </tr>\n",
       "    <tr>\n",
       "      <th>MDA.Strati.FL.Blood</th>\n",
       "      <td>8</td>\n",
       "      <td>100.00</td>\n",
       "    </tr>\n",
       "    <tr>\n",
       "      <th>Bravo Validation</th>\n",
       "      <td>45</td>\n",
       "      <td>100.00</td>\n",
       "    </tr>\n",
       "  </tbody>\n",
       "</table>\n",
       "</div>"
      ],
      "text/plain": [
       "good_sample_flag                  sample_by_project  good_sample %\n",
       "Project                                                           \n",
       "cfRNA Deconvolution                             166           0.00\n",
       "cfDNA                                            12           0.00\n",
       "V8+UTR validation                                94           0.00\n",
       "UM.Valdes.BC.cfDNA                                2           0.00\n",
       "Heme validation                                   4           0.00\n",
       "cfDNA TMB references                             48           0.00\n",
       "cfDNA Fusions                                   905           0.55\n",
       "MDACC_Yam_Artemis                               195           6.15\n",
       "FEASY_trial                                      17          17.65\n",
       "Immune Status                                   193          45.08\n",
       "MGH.David Ting.PDAC                              25          52.00\n",
       "Other                                            93          59.14\n",
       "WCMC_CUP_Sternberg_Retrospective                 53          60.38\n",
       "NCI_FL_Roschewski                                79          64.56\n",
       "Mayo_DIAL_Villasboas                             32          68.75\n",
       "cfDNA Plasma                                     16          87.50\n",
       "MDA.Heymach.SCLC                                 93          97.85\n",
       "MDA.Flowers.PTLD                                 31         100.00\n",
       "HRS validation                                    1         100.00\n",
       "HRD validation                                   54         100.00\n",
       "WU.Huang.Meningioma                              18         100.00\n",
       "Coverage map                                     10         100.00\n",
       "Cell Atlas                                       19         100.00\n",
       "MDA.Strati.FL.Blood                               8         100.00\n",
       "Bravo Validation                                 45         100.00"
      ]
     },
     "execution_count": 234,
     "metadata": {},
     "output_type": "execute_result"
    }
   ],
   "source": [
    "sample_report_pivoted[[\"Project\",\"sample_by_project\",\"good_sample %\"]].sort_values(by=\"good_sample %\").set_index(\"Project\")"
   ]
  },
  {
   "cell_type": "markdown",
   "id": "51dc4ed5",
   "metadata": {},
   "source": [
    "### Результаты QC"
   ]
  },
  {
   "cell_type": "markdown",
   "id": "309eca2a",
   "metadata": {},
   "source": [
    "#### Распределение Library Concentration по типу образцов (DNA/RNA)"
   ]
  },
  {
   "cell_type": "code",
   "execution_count": 186,
   "id": "a060a6a8",
   "metadata": {},
   "outputs": [],
   "source": [
    "df[\"sample_type\"] = np.select(\n",
    "    [\n",
    "        df[\"Extract BG_ID\"].str[0] == \"D\"\n",
    "    ],[\"DNA\"],default=\"RNA\"\n",
    ")"
   ]
  },
  {
   "cell_type": "code",
   "execution_count": 187,
   "id": "01cd4024",
   "metadata": {},
   "outputs": [
    {
     "data": {
      "application/vnd.plotly.v1+json": {
       "config": {
        "plotlyServerURL": "https://plot.ly"
       },
       "data": [
        {
         "marker": {
          "color": "#E93F36"
         },
         "name": "DNA",
         "type": "box",
         "y": [
          126,
          104,
          105,
          62,
          39,
          40,
          96,
          124,
          77,
          107,
          124,
          71,
          45,
          134,
          109,
          101,
          74,
          106,
          41,
          74,
          138,
          98,
          9,
          133,
          104,
          102,
          60,
          79,
          57,
          116,
          109,
          32,
          43,
          97,
          14,
          98,
          3,
          53,
          104,
          65,
          7,
          4,
          14,
          38,
          90,
          111,
          88,
          62,
          107,
          96,
          70,
          51,
          66,
          109,
          18,
          71,
          43,
          66,
          21,
          50,
          4,
          60,
          71,
          77,
          67,
          22,
          42,
          95,
          53,
          88,
          29,
          75,
          129,
          70,
          115,
          36,
          126,
          37,
          75,
          89,
          133,
          96,
          118,
          27,
          85,
          150,
          96,
          32,
          44,
          59,
          135,
          34,
          121,
          144,
          58,
          144,
          102,
          22,
          134,
          127,
          94,
          11,
          36,
          131,
          55,
          18,
          142,
          99,
          93,
          101,
          46,
          91,
          67,
          76,
          82,
          3,
          22,
          76,
          60,
          36,
          124,
          57,
          120,
          13,
          60,
          35,
          63,
          141,
          25,
          145,
          69,
          36,
          126,
          54,
          148,
          9,
          55,
          148,
          22,
          131,
          62,
          84,
          143,
          6,
          139,
          102,
          57,
          108,
          134,
          19,
          28,
          116,
          137,
          18,
          56,
          84,
          6,
          74,
          75,
          102,
          93,
          10,
          65,
          131,
          116,
          4,
          125,
          148,
          23,
          54,
          58,
          0,
          57,
          107,
          81,
          92,
          40,
          130,
          105,
          11,
          67,
          33,
          33,
          149,
          0,
          13,
          78,
          94,
          34,
          143,
          63,
          38,
          113,
          17,
          80,
          61,
          47,
          31,
          81,
          86,
          121,
          82,
          102,
          134,
          39,
          73,
          33,
          65,
          55,
          112,
          91,
          51,
          70,
          98,
          97,
          135,
          111,
          126,
          3,
          17,
          145,
          75,
          65,
          48,
          47,
          93,
          103,
          129,
          120,
          116,
          8,
          109,
          78,
          5,
          49,
          42,
          89,
          76,
          121,
          65,
          7,
          83,
          118,
          138,
          88,
          132,
          37,
          52,
          11,
          89,
          125,
          122,
          20,
          15,
          90,
          19,
          84,
          118,
          118,
          75,
          81,
          2,
          145,
          61,
          101,
          150,
          21,
          16,
          96,
          75,
          73,
          88,
          25,
          123,
          59,
          38,
          81,
          91,
          132,
          74,
          143,
          74,
          112,
          99,
          47,
          119,
          124,
          96,
          104,
          38,
          114,
          43,
          143,
          23,
          54,
          80,
          96,
          48,
          116,
          121,
          36,
          34,
          137,
          107,
          3,
          139,
          23,
          116,
          59,
          86,
          73,
          28,
          45,
          143,
          21,
          1,
          125,
          142,
          79,
          61,
          37,
          66,
          64,
          130,
          147,
          110,
          115,
          100,
          130,
          106,
          7,
          7,
          67,
          64,
          71,
          125,
          26,
          80,
          109,
          51,
          51,
          75,
          70,
          79,
          127,
          20,
          148,
          4,
          0,
          49,
          88,
          9,
          98,
          88,
          24,
          62,
          102,
          131,
          59,
          71,
          52,
          126,
          143,
          75,
          109,
          115,
          50,
          138,
          1,
          4,
          29,
          108,
          150,
          0,
          107,
          36,
          142,
          117,
          71,
          138,
          26,
          22,
          67,
          91,
          85,
          126,
          109,
          18,
          134,
          22,
          107,
          140,
          103,
          50,
          89,
          57,
          118,
          71,
          148,
          47,
          125,
          94,
          20,
          90,
          67,
          98,
          66,
          99,
          0,
          43,
          21,
          135,
          13,
          28,
          5,
          140,
          76,
          68,
          104,
          59,
          105,
          43,
          84,
          56,
          130,
          143,
          110,
          124,
          51,
          150,
          71,
          139,
          76,
          90,
          77,
          58,
          92,
          149,
          0,
          133,
          112,
          63,
          65,
          13,
          117,
          150,
          145,
          95,
          139,
          49,
          96,
          0,
          81,
          37,
          16,
          83,
          144,
          69,
          19,
          80,
          39,
          33,
          73,
          27,
          78,
          13,
          6,
          95,
          16,
          113,
          131,
          133,
          96,
          147,
          134,
          14,
          41,
          81,
          150,
          45,
          116,
          112,
          146,
          136,
          88,
          136,
          66,
          101,
          125,
          52,
          128,
          145,
          132,
          10,
          140,
          21,
          120,
          58,
          14,
          82,
          52,
          16,
          149,
          15,
          12,
          51,
          94,
          146,
          126,
          149,
          89,
          100,
          149,
          144,
          17,
          23,
          36,
          36,
          61,
          59,
          105,
          38,
          66,
          6,
          27,
          42,
          4,
          98,
          82,
          4,
          60,
          21,
          66,
          17,
          71,
          5,
          42,
          10,
          46,
          15,
          75,
          19,
          72,
          9,
          11,
          103,
          129,
          76,
          39,
          105,
          51,
          47,
          9,
          137,
          100,
          97,
          32,
          121,
          93,
          43,
          41,
          55,
          3,
          59,
          128,
          53,
          58,
          137,
          68,
          20,
          6,
          143,
          141,
          146,
          36,
          33,
          140,
          149,
          103,
          79,
          81,
          137,
          47,
          72,
          72,
          92,
          127,
          55,
          79,
          77,
          68,
          58,
          97,
          101,
          22,
          30,
          27,
          84,
          137,
          95,
          59,
          13,
          118,
          38,
          141,
          71,
          20,
          141,
          130,
          35,
          146,
          99,
          133,
          67,
          49,
          106,
          11,
          21,
          93,
          40,
          115,
          130,
          75,
          137,
          31,
          109,
          14,
          50,
          90,
          0,
          42,
          41,
          147,
          73,
          150,
          3,
          87,
          88,
          118,
          46,
          53,
          110,
          33,
          12,
          71,
          92,
          115,
          18,
          112,
          69,
          37,
          53,
          45,
          58,
          124,
          126,
          12,
          65,
          60,
          149,
          63,
          126,
          14,
          58,
          76,
          80,
          71,
          131,
          7,
          115,
          66,
          96,
          10,
          23,
          142,
          134,
          21,
          55,
          40,
          146,
          44,
          98,
          53,
          144,
          125,
          129,
          44,
          92,
          101,
          135,
          14,
          22,
          141,
          57,
          39,
          77,
          62,
          141,
          106,
          132,
          138,
          136,
          68,
          142,
          121,
          144,
          66,
          113,
          132,
          97,
          126,
          136,
          23,
          2,
          84,
          81,
          134,
          98,
          111,
          140,
          112,
          47,
          76,
          92,
          27,
          109,
          47,
          74,
          133,
          140,
          113,
          134,
          105,
          60,
          107,
          41,
          29,
          23,
          7,
          6,
          112,
          103,
          79,
          62,
          9,
          119,
          110,
          69,
          105,
          116,
          142,
          86,
          69,
          19,
          40,
          115,
          98,
          116,
          129,
          117,
          66,
          32,
          20,
          32,
          61,
          83,
          86,
          78,
          57,
          56,
          98,
          65,
          128,
          117,
          88,
          89,
          16,
          139,
          128,
          60,
          73,
          26,
          71,
          86,
          128,
          44,
          27,
          111,
          20,
          97,
          125,
          94,
          84,
          30,
          22,
          120,
          23,
          71,
          150,
          144,
          74,
          28,
          134,
          113,
          0,
          45,
          147,
          107,
          123,
          92,
          146,
          20,
          131,
          3,
          35,
          3,
          145,
          76,
          15,
          40,
          14,
          149,
          81,
          7,
          39,
          8,
          58,
          129,
          27,
          145,
          24,
          112,
          128,
          80,
          126,
          21,
          57,
          96,
          38,
          55,
          47,
          148,
          59,
          24,
          91,
          13,
          81,
          109,
          20,
          72,
          3,
          32,
          89,
          59,
          32,
          83,
          87,
          85,
          76,
          115,
          86,
          43,
          57,
          105,
          1,
          94,
          5,
          33,
          144,
          122,
          74,
          57,
          68,
          38,
          73,
          95,
          15,
          75,
          75,
          112,
          71,
          100,
          47,
          127,
          78,
          64,
          87,
          86,
          129,
          81,
          121,
          64,
          42,
          14,
          80,
          107,
          0,
          115,
          126,
          107,
          1,
          51,
          93,
          79,
          6,
          16,
          129,
          44,
          2,
          82,
          102,
          59,
          3,
          97,
          121,
          145,
          64,
          79,
          127,
          98,
          69,
          117,
          121,
          97,
          146,
          19,
          116,
          22,
          85,
          105,
          150,
          128,
          69,
          6,
          22,
          18,
          46,
          66,
          58,
          38,
          53,
          40,
          41,
          149,
          53,
          105,
          3,
          72,
          25,
          139,
          116,
          61,
          69,
          58,
          150,
          81,
          102,
          76,
          7,
          44,
          9,
          47,
          117,
          61,
          66,
          140,
          13,
          26,
          82,
          19,
          73,
          6,
          39,
          70,
          109,
          137,
          137,
          105,
          43,
          1,
          70,
          93,
          34,
          103,
          34,
          147,
          3,
          30,
          56,
          68,
          6,
          3,
          46,
          39,
          95,
          84,
          115,
          67,
          25,
          105,
          56,
          70,
          73,
          0,
          44,
          23,
          72,
          129,
          9,
          140,
          14,
          85,
          116,
          2,
          97,
          46,
          41,
          119,
          119,
          48,
          73,
          114,
          144,
          82,
          50,
          6,
          40,
          24,
          32,
          92,
          91,
          149,
          59,
          18,
          12,
          75,
          14,
          98,
          54,
          15,
          58,
          13,
          72,
          90,
          10,
          147,
          21,
          79,
          64,
          4,
          78,
          129,
          133,
          59,
          120,
          115,
          149,
          63,
          5,
          122,
          7,
          89,
          134,
          132,
          89,
          38,
          118,
          54,
          0,
          109,
          71,
          69,
          126,
          24,
          64,
          30,
          123,
          87,
          2,
          97,
          23,
          39,
          118,
          20,
          145,
          25,
          127,
          132,
          40,
          75,
          131,
          76,
          42,
          28,
          69,
          114,
          45,
          103,
          17,
          132,
          130,
          146,
          65,
          34,
          42,
          123,
          8,
          36,
          138,
          57,
          19,
          52,
          27,
          148,
          136,
          56,
          34,
          18,
          148,
          129,
          73,
          2,
          18,
          86,
          48,
          82,
          40,
          26,
          60,
          80,
          83,
          131,
          72,
          14,
          145,
          71,
          39,
          18,
          100,
          121,
          85,
          39,
          93,
          147,
          25,
          93,
          29,
          29,
          87,
          3,
          131,
          94,
          86,
          137,
          25,
          4,
          20,
          145,
          80,
          39,
          87,
          5,
          100,
          13,
          129,
          115,
          83,
          8,
          85,
          96,
          40,
          17,
          77,
          71,
          19,
          55,
          90,
          120,
          97,
          4,
          126,
          140,
          33,
          42,
          127,
          94,
          17,
          109,
          51,
          63,
          84,
          133,
          17,
          150,
          63,
          145,
          62,
          68,
          145,
          89,
          120,
          36,
          73,
          118,
          87,
          103,
          50,
          77,
          115,
          16,
          125,
          90,
          82,
          3,
          69,
          50,
          10,
          85,
          79,
          11,
          84,
          59,
          21,
          51,
          112,
          138,
          20,
          69,
          24,
          76,
          90,
          78,
          45,
          24,
          7,
          5,
          106,
          126,
          124,
          58,
          91,
          10,
          135,
          94,
          22,
          89,
          116,
          134,
          126,
          111,
          111,
          89,
          72,
          90,
          60,
          67,
          43,
          125,
          150,
          75,
          63,
          120,
          10,
          15,
          94,
          132,
          89,
          134,
          15,
          41,
          48,
          45,
          132,
          116,
          76,
          104,
          68,
          55,
          121,
          118,
          59,
          114,
          114,
          3,
          128,
          2,
          110,
          26,
          39,
          42,
          8,
          132,
          10,
          83,
          20,
          61,
          139,
          17,
          61,
          128,
          129,
          94,
          48,
          14,
          91,
          54,
          93,
          149,
          147,
          26,
          92,
          54,
          147,
          116,
          61,
          68,
          124,
          18,
          1,
          46,
          10,
          31,
          37,
          79,
          38,
          50,
          48,
          77,
          7,
          25,
          35,
          40,
          143,
          14,
          3,
          86,
          84,
          11,
          64,
          23,
          72,
          65,
          81,
          98,
          15,
          46,
          63,
          66,
          7,
          81,
          10,
          129,
          113,
          14,
          25,
          86,
          34,
          56,
          40,
          9,
          140,
          144,
          140,
          110,
          19,
          48,
          109,
          138,
          113,
          47,
          114,
          102,
          23,
          3,
          19,
          26,
          29,
          78,
          133,
          133,
          52,
          126,
          143,
          112,
          14,
          27,
          98,
          13,
          7,
          113,
          122,
          47,
          79,
          57,
          26,
          86,
          130,
          56,
          89,
          59,
          97,
          94,
          3,
          120,
          99,
          54,
          122,
          117,
          115,
          62,
          40,
          121,
          52,
          132,
          18,
          38,
          15,
          57,
          34,
          68,
          41,
          105,
          88,
          86,
          26,
          57,
          138,
          145,
          105,
          43,
          86,
          143,
          109,
          83,
          29,
          104,
          117,
          94,
          52,
          23,
          128,
          23,
          82,
          61,
          131,
          93,
          33,
          42,
          139,
          147,
          96,
          147,
          108,
          9,
          129,
          92,
          111,
          113,
          11,
          116,
          53,
          117,
          136,
          109,
          63,
          23,
          33,
          103,
          141,
          40,
          59,
          113,
          55,
          13,
          75,
          32,
          62,
          106,
          136,
          147,
          108,
          70,
          21,
          74,
          118,
          141,
          97,
          40,
          57,
          109,
          6,
          119,
          86,
          23,
          22,
          73,
          109,
          109,
          88,
          14,
          130,
          66,
          65,
          128,
          138,
          73,
          132,
          128,
          24,
          118,
          18,
          118,
          111,
          89
         ]
        },
        {
         "marker": {
          "color": "#04104E"
         },
         "name": "RNA",
         "type": "box",
         "y": [
          16,
          42,
          9,
          10,
          96,
          135,
          82,
          26,
          103,
          3,
          31,
          121,
          133,
          80,
          144,
          56,
          93,
          26,
          106,
          113,
          149,
          131,
          44,
          129,
          22,
          37,
          66,
          37,
          0,
          123,
          70,
          85,
          138,
          4,
          99,
          105,
          130,
          105,
          141,
          149,
          92,
          17,
          91,
          78,
          51,
          58,
          129,
          49,
          42,
          145,
          117,
          68,
          108,
          11,
          140,
          96,
          68,
          83,
          13,
          121,
          33,
          118,
          101,
          17,
          48,
          139,
          56,
          137,
          110,
          119,
          45,
          88,
          31,
          146,
          123,
          30,
          84,
          19,
          18,
          75,
          95,
          23,
          142,
          144,
          9,
          141,
          81,
          44,
          24,
          116,
          24,
          99,
          9,
          10,
          99,
          24,
          136,
          80,
          71,
          17,
          139,
          40,
          19,
          107,
          80,
          139,
          69,
          138,
          75,
          57,
          106,
          113,
          37,
          141,
          4,
          125,
          39,
          109,
          110,
          97,
          127,
          40,
          83,
          40,
          125,
          67,
          37,
          65,
          93,
          103,
          140,
          43,
          80,
          39,
          52,
          51,
          81,
          37,
          72,
          138,
          149,
          147,
          107,
          12,
          45,
          144,
          107,
          105,
          34,
          73,
          15,
          129,
          132,
          149,
          38,
          14,
          22,
          74,
          133,
          43,
          125,
          55,
          30,
          140,
          145,
          51,
          108,
          75,
          55,
          17,
          143,
          18,
          41,
          83,
          71,
          9,
          55,
          26,
          0,
          32,
          70,
          72,
          29,
          91,
          134,
          24,
          34,
          146,
          102,
          9,
          91,
          125,
          64,
          70,
          111,
          69,
          87,
          10,
          123,
          144,
          128,
          2,
          37,
          2,
          131,
          114,
          150,
          100,
          76,
          7,
          140,
          95,
          100,
          17,
          74,
          87,
          68,
          20,
          1,
          36,
          20,
          116,
          33,
          121,
          79,
          37,
          96,
          31,
          15,
          27,
          141,
          53,
          19,
          105,
          115,
          106,
          42,
          88,
          15,
          35,
          68,
          133,
          105,
          48,
          83,
          64,
          18,
          33,
          89,
          106,
          90,
          20,
          97,
          148,
          126,
          44,
          3,
          145,
          90,
          105,
          84,
          85,
          60,
          52,
          15,
          2,
          59,
          0,
          66,
          3,
          148,
          117,
          118,
          36,
          104,
          136,
          40,
          111,
          120,
          55,
          26,
          106,
          106,
          124,
          91,
          7,
          14,
          8,
          133,
          131,
          44,
          30,
          36,
          11,
          106,
          88,
          39,
          84,
          24,
          101,
          29,
          82,
          144,
          46,
          64,
          102,
          88,
          45,
          53,
          101,
          84,
          50,
          67,
          7,
          29,
          80,
          59,
          57,
          27,
          131,
          88,
          126,
          139,
          63,
          12,
          1,
          92,
          43,
          150,
          88,
          133,
          129,
          135,
          73,
          116,
          84,
          99,
          142,
          70,
          1,
          88,
          51,
          49,
          68,
          50,
          75,
          42,
          102,
          46,
          12,
          147,
          125,
          13,
          117,
          101,
          18,
          0,
          77,
          0,
          5,
          52,
          132,
          32,
          39,
          82,
          98,
          36,
          101,
          137,
          44,
          0,
          112,
          83,
          32,
          142,
          79,
          110,
          147,
          28,
          54,
          150,
          21,
          41,
          126,
          56,
          141,
          85,
          64,
          146,
          91,
          83,
          140,
          76,
          88,
          7,
          78,
          81,
          78,
          119,
          63,
          87,
          69,
          72,
          36,
          90,
          11,
          136,
          100,
          128,
          44,
          103,
          101,
          99,
          95,
          87,
          22,
          21,
          138,
          107,
          49,
          149,
          100,
          134,
          120,
          117,
          117,
          17,
          143,
          82,
          96,
          71,
          118,
          21,
          150,
          143,
          7,
          146,
          88,
          71,
          58,
          47,
          78,
          30,
          102,
          13,
          97,
          51,
          68,
          61,
          122,
          134,
          107,
          66,
          52,
          75,
          0,
          129,
          89,
          143,
          16,
          17,
          15,
          139,
          89,
          38,
          93,
          7,
          136,
          30,
          25,
          1,
          100,
          48,
          105,
          86,
          88,
          2,
          135,
          22,
          110,
          99,
          55,
          122,
          20,
          21,
          133,
          42,
          19,
          64,
          67,
          139,
          100,
          71,
          72,
          52,
          127,
          1,
          37,
          30,
          55,
          123,
          128,
          124,
          99,
          73,
          85,
          14,
          142,
          146,
          0,
          59,
          97,
          43,
          15,
          25,
          137,
          49,
          52,
          95,
          70,
          121,
          33,
          26,
          147,
          42,
          118,
          0,
          111,
          25,
          126,
          42,
          98,
          110,
          30,
          128,
          148,
          43,
          87,
          27,
          98,
          80,
          115,
          132,
          46,
          20,
          25,
          57,
          94,
          96,
          29,
          122,
          131,
          79,
          140,
          133,
          95,
          60,
          67,
          75,
          111,
          98,
          118,
          27,
          6,
          74,
          78,
          13,
          53,
          64,
          103,
          145,
          34,
          122,
          100,
          146,
          9,
          101,
          73,
          11,
          104,
          36,
          37,
          118,
          99,
          37,
          136,
          57,
          41,
          3,
          7,
          138,
          142,
          49,
          75,
          73,
          90,
          79,
          131,
          56,
          73,
          127,
          55,
          46,
          13,
          74,
          112,
          115,
          36,
          34,
          85,
          103,
          85,
          25,
          10,
          100,
          145,
          1,
          114,
          128,
          60,
          82,
          149,
          45,
          76,
          10,
          85,
          30,
          125,
          145,
          100,
          126,
          7,
          103,
          5,
          124,
          1,
          52,
          117,
          74,
          5,
          131,
          22,
          15,
          104,
          91,
          92,
          94,
          42,
          42,
          55,
          1,
          109,
          35,
          17,
          102,
          106,
          117,
          49,
          104,
          59,
          27,
          136,
          103,
          39,
          109,
          32,
          58,
          146,
          87,
          18,
          119,
          12,
          115,
          108,
          7,
          79,
          41,
          26,
          77,
          54,
          144,
          102,
          121,
          90,
          30,
          66,
          8,
          79,
          54,
          59,
          7,
          116,
          135,
          23,
          2,
          88,
          94,
          40,
          137
         ]
        }
       ],
       "layout": {
        "template": {
         "data": {
          "bar": [
           {
            "error_x": {
             "color": "#2a3f5f"
            },
            "error_y": {
             "color": "#2a3f5f"
            },
            "marker": {
             "line": {
              "color": "#E5ECF6",
              "width": 0.5
             },
             "pattern": {
              "fillmode": "overlay",
              "size": 10,
              "solidity": 0.2
             }
            },
            "type": "bar"
           }
          ],
          "barpolar": [
           {
            "marker": {
             "line": {
              "color": "#E5ECF6",
              "width": 0.5
             },
             "pattern": {
              "fillmode": "overlay",
              "size": 10,
              "solidity": 0.2
             }
            },
            "type": "barpolar"
           }
          ],
          "carpet": [
           {
            "aaxis": {
             "endlinecolor": "#2a3f5f",
             "gridcolor": "white",
             "linecolor": "white",
             "minorgridcolor": "white",
             "startlinecolor": "#2a3f5f"
            },
            "baxis": {
             "endlinecolor": "#2a3f5f",
             "gridcolor": "white",
             "linecolor": "white",
             "minorgridcolor": "white",
             "startlinecolor": "#2a3f5f"
            },
            "type": "carpet"
           }
          ],
          "choropleth": [
           {
            "colorbar": {
             "outlinewidth": 0,
             "ticks": ""
            },
            "type": "choropleth"
           }
          ],
          "contour": [
           {
            "colorbar": {
             "outlinewidth": 0,
             "ticks": ""
            },
            "colorscale": [
             [
              0,
              "#0d0887"
             ],
             [
              0.1111111111111111,
              "#46039f"
             ],
             [
              0.2222222222222222,
              "#7201a8"
             ],
             [
              0.3333333333333333,
              "#9c179e"
             ],
             [
              0.4444444444444444,
              "#bd3786"
             ],
             [
              0.5555555555555556,
              "#d8576b"
             ],
             [
              0.6666666666666666,
              "#ed7953"
             ],
             [
              0.7777777777777778,
              "#fb9f3a"
             ],
             [
              0.8888888888888888,
              "#fdca26"
             ],
             [
              1,
              "#f0f921"
             ]
            ],
            "type": "contour"
           }
          ],
          "contourcarpet": [
           {
            "colorbar": {
             "outlinewidth": 0,
             "ticks": ""
            },
            "type": "contourcarpet"
           }
          ],
          "heatmap": [
           {
            "colorbar": {
             "outlinewidth": 0,
             "ticks": ""
            },
            "colorscale": [
             [
              0,
              "#0d0887"
             ],
             [
              0.1111111111111111,
              "#46039f"
             ],
             [
              0.2222222222222222,
              "#7201a8"
             ],
             [
              0.3333333333333333,
              "#9c179e"
             ],
             [
              0.4444444444444444,
              "#bd3786"
             ],
             [
              0.5555555555555556,
              "#d8576b"
             ],
             [
              0.6666666666666666,
              "#ed7953"
             ],
             [
              0.7777777777777778,
              "#fb9f3a"
             ],
             [
              0.8888888888888888,
              "#fdca26"
             ],
             [
              1,
              "#f0f921"
             ]
            ],
            "type": "heatmap"
           }
          ],
          "heatmapgl": [
           {
            "colorbar": {
             "outlinewidth": 0,
             "ticks": ""
            },
            "colorscale": [
             [
              0,
              "#0d0887"
             ],
             [
              0.1111111111111111,
              "#46039f"
             ],
             [
              0.2222222222222222,
              "#7201a8"
             ],
             [
              0.3333333333333333,
              "#9c179e"
             ],
             [
              0.4444444444444444,
              "#bd3786"
             ],
             [
              0.5555555555555556,
              "#d8576b"
             ],
             [
              0.6666666666666666,
              "#ed7953"
             ],
             [
              0.7777777777777778,
              "#fb9f3a"
             ],
             [
              0.8888888888888888,
              "#fdca26"
             ],
             [
              1,
              "#f0f921"
             ]
            ],
            "type": "heatmapgl"
           }
          ],
          "histogram": [
           {
            "marker": {
             "pattern": {
              "fillmode": "overlay",
              "size": 10,
              "solidity": 0.2
             }
            },
            "type": "histogram"
           }
          ],
          "histogram2d": [
           {
            "colorbar": {
             "outlinewidth": 0,
             "ticks": ""
            },
            "colorscale": [
             [
              0,
              "#0d0887"
             ],
             [
              0.1111111111111111,
              "#46039f"
             ],
             [
              0.2222222222222222,
              "#7201a8"
             ],
             [
              0.3333333333333333,
              "#9c179e"
             ],
             [
              0.4444444444444444,
              "#bd3786"
             ],
             [
              0.5555555555555556,
              "#d8576b"
             ],
             [
              0.6666666666666666,
              "#ed7953"
             ],
             [
              0.7777777777777778,
              "#fb9f3a"
             ],
             [
              0.8888888888888888,
              "#fdca26"
             ],
             [
              1,
              "#f0f921"
             ]
            ],
            "type": "histogram2d"
           }
          ],
          "histogram2dcontour": [
           {
            "colorbar": {
             "outlinewidth": 0,
             "ticks": ""
            },
            "colorscale": [
             [
              0,
              "#0d0887"
             ],
             [
              0.1111111111111111,
              "#46039f"
             ],
             [
              0.2222222222222222,
              "#7201a8"
             ],
             [
              0.3333333333333333,
              "#9c179e"
             ],
             [
              0.4444444444444444,
              "#bd3786"
             ],
             [
              0.5555555555555556,
              "#d8576b"
             ],
             [
              0.6666666666666666,
              "#ed7953"
             ],
             [
              0.7777777777777778,
              "#fb9f3a"
             ],
             [
              0.8888888888888888,
              "#fdca26"
             ],
             [
              1,
              "#f0f921"
             ]
            ],
            "type": "histogram2dcontour"
           }
          ],
          "mesh3d": [
           {
            "colorbar": {
             "outlinewidth": 0,
             "ticks": ""
            },
            "type": "mesh3d"
           }
          ],
          "parcoords": [
           {
            "line": {
             "colorbar": {
              "outlinewidth": 0,
              "ticks": ""
             }
            },
            "type": "parcoords"
           }
          ],
          "pie": [
           {
            "automargin": true,
            "type": "pie"
           }
          ],
          "scatter": [
           {
            "fillpattern": {
             "fillmode": "overlay",
             "size": 10,
             "solidity": 0.2
            },
            "type": "scatter"
           }
          ],
          "scatter3d": [
           {
            "line": {
             "colorbar": {
              "outlinewidth": 0,
              "ticks": ""
             }
            },
            "marker": {
             "colorbar": {
              "outlinewidth": 0,
              "ticks": ""
             }
            },
            "type": "scatter3d"
           }
          ],
          "scattercarpet": [
           {
            "marker": {
             "colorbar": {
              "outlinewidth": 0,
              "ticks": ""
             }
            },
            "type": "scattercarpet"
           }
          ],
          "scattergeo": [
           {
            "marker": {
             "colorbar": {
              "outlinewidth": 0,
              "ticks": ""
             }
            },
            "type": "scattergeo"
           }
          ],
          "scattergl": [
           {
            "marker": {
             "colorbar": {
              "outlinewidth": 0,
              "ticks": ""
             }
            },
            "type": "scattergl"
           }
          ],
          "scattermapbox": [
           {
            "marker": {
             "colorbar": {
              "outlinewidth": 0,
              "ticks": ""
             }
            },
            "type": "scattermapbox"
           }
          ],
          "scatterpolar": [
           {
            "marker": {
             "colorbar": {
              "outlinewidth": 0,
              "ticks": ""
             }
            },
            "type": "scatterpolar"
           }
          ],
          "scatterpolargl": [
           {
            "marker": {
             "colorbar": {
              "outlinewidth": 0,
              "ticks": ""
             }
            },
            "type": "scatterpolargl"
           }
          ],
          "scatterternary": [
           {
            "marker": {
             "colorbar": {
              "outlinewidth": 0,
              "ticks": ""
             }
            },
            "type": "scatterternary"
           }
          ],
          "surface": [
           {
            "colorbar": {
             "outlinewidth": 0,
             "ticks": ""
            },
            "colorscale": [
             [
              0,
              "#0d0887"
             ],
             [
              0.1111111111111111,
              "#46039f"
             ],
             [
              0.2222222222222222,
              "#7201a8"
             ],
             [
              0.3333333333333333,
              "#9c179e"
             ],
             [
              0.4444444444444444,
              "#bd3786"
             ],
             [
              0.5555555555555556,
              "#d8576b"
             ],
             [
              0.6666666666666666,
              "#ed7953"
             ],
             [
              0.7777777777777778,
              "#fb9f3a"
             ],
             [
              0.8888888888888888,
              "#fdca26"
             ],
             [
              1,
              "#f0f921"
             ]
            ],
            "type": "surface"
           }
          ],
          "table": [
           {
            "cells": {
             "fill": {
              "color": "#EBF0F8"
             },
             "line": {
              "color": "white"
             }
            },
            "header": {
             "fill": {
              "color": "#C8D4E3"
             },
             "line": {
              "color": "white"
             }
            },
            "type": "table"
           }
          ]
         },
         "layout": {
          "annotationdefaults": {
           "arrowcolor": "#2a3f5f",
           "arrowhead": 0,
           "arrowwidth": 1
          },
          "autotypenumbers": "strict",
          "coloraxis": {
           "colorbar": {
            "outlinewidth": 0,
            "ticks": ""
           }
          },
          "colorscale": {
           "diverging": [
            [
             0,
             "#8e0152"
            ],
            [
             0.1,
             "#c51b7d"
            ],
            [
             0.2,
             "#de77ae"
            ],
            [
             0.3,
             "#f1b6da"
            ],
            [
             0.4,
             "#fde0ef"
            ],
            [
             0.5,
             "#f7f7f7"
            ],
            [
             0.6,
             "#e6f5d0"
            ],
            [
             0.7,
             "#b8e186"
            ],
            [
             0.8,
             "#7fbc41"
            ],
            [
             0.9,
             "#4d9221"
            ],
            [
             1,
             "#276419"
            ]
           ],
           "sequential": [
            [
             0,
             "#0d0887"
            ],
            [
             0.1111111111111111,
             "#46039f"
            ],
            [
             0.2222222222222222,
             "#7201a8"
            ],
            [
             0.3333333333333333,
             "#9c179e"
            ],
            [
             0.4444444444444444,
             "#bd3786"
            ],
            [
             0.5555555555555556,
             "#d8576b"
            ],
            [
             0.6666666666666666,
             "#ed7953"
            ],
            [
             0.7777777777777778,
             "#fb9f3a"
            ],
            [
             0.8888888888888888,
             "#fdca26"
            ],
            [
             1,
             "#f0f921"
            ]
           ],
           "sequentialminus": [
            [
             0,
             "#0d0887"
            ],
            [
             0.1111111111111111,
             "#46039f"
            ],
            [
             0.2222222222222222,
             "#7201a8"
            ],
            [
             0.3333333333333333,
             "#9c179e"
            ],
            [
             0.4444444444444444,
             "#bd3786"
            ],
            [
             0.5555555555555556,
             "#d8576b"
            ],
            [
             0.6666666666666666,
             "#ed7953"
            ],
            [
             0.7777777777777778,
             "#fb9f3a"
            ],
            [
             0.8888888888888888,
             "#fdca26"
            ],
            [
             1,
             "#f0f921"
            ]
           ]
          },
          "colorway": [
           "#636efa",
           "#EF553B",
           "#00cc96",
           "#ab63fa",
           "#FFA15A",
           "#19d3f3",
           "#FF6692",
           "#B6E880",
           "#FF97FF",
           "#FECB52"
          ],
          "font": {
           "color": "#2a3f5f"
          },
          "geo": {
           "bgcolor": "white",
           "lakecolor": "white",
           "landcolor": "#E5ECF6",
           "showlakes": true,
           "showland": true,
           "subunitcolor": "white"
          },
          "hoverlabel": {
           "align": "left"
          },
          "hovermode": "closest",
          "mapbox": {
           "style": "light"
          },
          "paper_bgcolor": "white",
          "plot_bgcolor": "#E5ECF6",
          "polar": {
           "angularaxis": {
            "gridcolor": "white",
            "linecolor": "white",
            "ticks": ""
           },
           "bgcolor": "#E5ECF6",
           "radialaxis": {
            "gridcolor": "white",
            "linecolor": "white",
            "ticks": ""
           }
          },
          "scene": {
           "xaxis": {
            "backgroundcolor": "#E5ECF6",
            "gridcolor": "white",
            "gridwidth": 2,
            "linecolor": "white",
            "showbackground": true,
            "ticks": "",
            "zerolinecolor": "white"
           },
           "yaxis": {
            "backgroundcolor": "#E5ECF6",
            "gridcolor": "white",
            "gridwidth": 2,
            "linecolor": "white",
            "showbackground": true,
            "ticks": "",
            "zerolinecolor": "white"
           },
           "zaxis": {
            "backgroundcolor": "#E5ECF6",
            "gridcolor": "white",
            "gridwidth": 2,
            "linecolor": "white",
            "showbackground": true,
            "ticks": "",
            "zerolinecolor": "white"
           }
          },
          "shapedefaults": {
           "line": {
            "color": "#2a3f5f"
           }
          },
          "ternary": {
           "aaxis": {
            "gridcolor": "white",
            "linecolor": "white",
            "ticks": ""
           },
           "baxis": {
            "gridcolor": "white",
            "linecolor": "white",
            "ticks": ""
           },
           "bgcolor": "#E5ECF6",
           "caxis": {
            "gridcolor": "white",
            "linecolor": "white",
            "ticks": ""
           }
          },
          "title": {
           "x": 0.05
          },
          "xaxis": {
           "automargin": true,
           "gridcolor": "white",
           "linecolor": "white",
           "ticks": "",
           "title": {
            "standoff": 15
           },
           "zerolinecolor": "white",
           "zerolinewidth": 2
          },
          "yaxis": {
           "automargin": true,
           "gridcolor": "white",
           "linecolor": "white",
           "ticks": "",
           "title": {
            "standoff": 15
           },
           "zerolinecolor": "white",
           "zerolinewidth": 2
          }
         }
        },
        "yaxis": {
         "title": {
          "text": "Library Concentration"
         }
        }
       }
      },
      "text/html": [
       "<div>                            <div id=\"c5a92d87-d9cf-476c-9b20-4c3466432c8c\" class=\"plotly-graph-div\" style=\"height:525px; width:100%;\"></div>            <script type=\"text/javascript\">                require([\"plotly\"], function(Plotly) {                    window.PLOTLYENV=window.PLOTLYENV || {};                                    if (document.getElementById(\"c5a92d87-d9cf-476c-9b20-4c3466432c8c\")) {                    Plotly.newPlot(                        \"c5a92d87-d9cf-476c-9b20-4c3466432c8c\",                        [{\"marker\":{\"color\":\"#E93F36\"},\"name\":\"DNA\",\"y\":[126,104,105,62,39,40,96,124,77,107,124,71,45,134,109,101,74,106,41,74,138,98,9,133,104,102,60,79,57,116,109,32,43,97,14,98,3,53,104,65,7,4,14,38,90,111,88,62,107,96,70,51,66,109,18,71,43,66,21,50,4,60,71,77,67,22,42,95,53,88,29,75,129,70,115,36,126,37,75,89,133,96,118,27,85,150,96,32,44,59,135,34,121,144,58,144,102,22,134,127,94,11,36,131,55,18,142,99,93,101,46,91,67,76,82,3,22,76,60,36,124,57,120,13,60,35,63,141,25,145,69,36,126,54,148,9,55,148,22,131,62,84,143,6,139,102,57,108,134,19,28,116,137,18,56,84,6,74,75,102,93,10,65,131,116,4,125,148,23,54,58,0,57,107,81,92,40,130,105,11,67,33,33,149,0,13,78,94,34,143,63,38,113,17,80,61,47,31,81,86,121,82,102,134,39,73,33,65,55,112,91,51,70,98,97,135,111,126,3,17,145,75,65,48,47,93,103,129,120,116,8,109,78,5,49,42,89,76,121,65,7,83,118,138,88,132,37,52,11,89,125,122,20,15,90,19,84,118,118,75,81,2,145,61,101,150,21,16,96,75,73,88,25,123,59,38,81,91,132,74,143,74,112,99,47,119,124,96,104,38,114,43,143,23,54,80,96,48,116,121,36,34,137,107,3,139,23,116,59,86,73,28,45,143,21,1,125,142,79,61,37,66,64,130,147,110,115,100,130,106,7,7,67,64,71,125,26,80,109,51,51,75,70,79,127,20,148,4,0,49,88,9,98,88,24,62,102,131,59,71,52,126,143,75,109,115,50,138,1,4,29,108,150,0,107,36,142,117,71,138,26,22,67,91,85,126,109,18,134,22,107,140,103,50,89,57,118,71,148,47,125,94,20,90,67,98,66,99,0,43,21,135,13,28,5,140,76,68,104,59,105,43,84,56,130,143,110,124,51,150,71,139,76,90,77,58,92,149,0,133,112,63,65,13,117,150,145,95,139,49,96,0,81,37,16,83,144,69,19,80,39,33,73,27,78,13,6,95,16,113,131,133,96,147,134,14,41,81,150,45,116,112,146,136,88,136,66,101,125,52,128,145,132,10,140,21,120,58,14,82,52,16,149,15,12,51,94,146,126,149,89,100,149,144,17,23,36,36,61,59,105,38,66,6,27,42,4,98,82,4,60,21,66,17,71,5,42,10,46,15,75,19,72,9,11,103,129,76,39,105,51,47,9,137,100,97,32,121,93,43,41,55,3,59,128,53,58,137,68,20,6,143,141,146,36,33,140,149,103,79,81,137,47,72,72,92,127,55,79,77,68,58,97,101,22,30,27,84,137,95,59,13,118,38,141,71,20,141,130,35,146,99,133,67,49,106,11,21,93,40,115,130,75,137,31,109,14,50,90,0,42,41,147,73,150,3,87,88,118,46,53,110,33,12,71,92,115,18,112,69,37,53,45,58,124,126,12,65,60,149,63,126,14,58,76,80,71,131,7,115,66,96,10,23,142,134,21,55,40,146,44,98,53,144,125,129,44,92,101,135,14,22,141,57,39,77,62,141,106,132,138,136,68,142,121,144,66,113,132,97,126,136,23,2,84,81,134,98,111,140,112,47,76,92,27,109,47,74,133,140,113,134,105,60,107,41,29,23,7,6,112,103,79,62,9,119,110,69,105,116,142,86,69,19,40,115,98,116,129,117,66,32,20,32,61,83,86,78,57,56,98,65,128,117,88,89,16,139,128,60,73,26,71,86,128,44,27,111,20,97,125,94,84,30,22,120,23,71,150,144,74,28,134,113,0,45,147,107,123,92,146,20,131,3,35,3,145,76,15,40,14,149,81,7,39,8,58,129,27,145,24,112,128,80,126,21,57,96,38,55,47,148,59,24,91,13,81,109,20,72,3,32,89,59,32,83,87,85,76,115,86,43,57,105,1,94,5,33,144,122,74,57,68,38,73,95,15,75,75,112,71,100,47,127,78,64,87,86,129,81,121,64,42,14,80,107,0,115,126,107,1,51,93,79,6,16,129,44,2,82,102,59,3,97,121,145,64,79,127,98,69,117,121,97,146,19,116,22,85,105,150,128,69,6,22,18,46,66,58,38,53,40,41,149,53,105,3,72,25,139,116,61,69,58,150,81,102,76,7,44,9,47,117,61,66,140,13,26,82,19,73,6,39,70,109,137,137,105,43,1,70,93,34,103,34,147,3,30,56,68,6,3,46,39,95,84,115,67,25,105,56,70,73,0,44,23,72,129,9,140,14,85,116,2,97,46,41,119,119,48,73,114,144,82,50,6,40,24,32,92,91,149,59,18,12,75,14,98,54,15,58,13,72,90,10,147,21,79,64,4,78,129,133,59,120,115,149,63,5,122,7,89,134,132,89,38,118,54,0,109,71,69,126,24,64,30,123,87,2,97,23,39,118,20,145,25,127,132,40,75,131,76,42,28,69,114,45,103,17,132,130,146,65,34,42,123,8,36,138,57,19,52,27,148,136,56,34,18,148,129,73,2,18,86,48,82,40,26,60,80,83,131,72,14,145,71,39,18,100,121,85,39,93,147,25,93,29,29,87,3,131,94,86,137,25,4,20,145,80,39,87,5,100,13,129,115,83,8,85,96,40,17,77,71,19,55,90,120,97,4,126,140,33,42,127,94,17,109,51,63,84,133,17,150,63,145,62,68,145,89,120,36,73,118,87,103,50,77,115,16,125,90,82,3,69,50,10,85,79,11,84,59,21,51,112,138,20,69,24,76,90,78,45,24,7,5,106,126,124,58,91,10,135,94,22,89,116,134,126,111,111,89,72,90,60,67,43,125,150,75,63,120,10,15,94,132,89,134,15,41,48,45,132,116,76,104,68,55,121,118,59,114,114,3,128,2,110,26,39,42,8,132,10,83,20,61,139,17,61,128,129,94,48,14,91,54,93,149,147,26,92,54,147,116,61,68,124,18,1,46,10,31,37,79,38,50,48,77,7,25,35,40,143,14,3,86,84,11,64,23,72,65,81,98,15,46,63,66,7,81,10,129,113,14,25,86,34,56,40,9,140,144,140,110,19,48,109,138,113,47,114,102,23,3,19,26,29,78,133,133,52,126,143,112,14,27,98,13,7,113,122,47,79,57,26,86,130,56,89,59,97,94,3,120,99,54,122,117,115,62,40,121,52,132,18,38,15,57,34,68,41,105,88,86,26,57,138,145,105,43,86,143,109,83,29,104,117,94,52,23,128,23,82,61,131,93,33,42,139,147,96,147,108,9,129,92,111,113,11,116,53,117,136,109,63,23,33,103,141,40,59,113,55,13,75,32,62,106,136,147,108,70,21,74,118,141,97,40,57,109,6,119,86,23,22,73,109,109,88,14,130,66,65,128,138,73,132,128,24,118,18,118,111,89],\"type\":\"box\"},{\"marker\":{\"color\":\"#04104E\"},\"name\":\"RNA\",\"y\":[16,42,9,10,96,135,82,26,103,3,31,121,133,80,144,56,93,26,106,113,149,131,44,129,22,37,66,37,0,123,70,85,138,4,99,105,130,105,141,149,92,17,91,78,51,58,129,49,42,145,117,68,108,11,140,96,68,83,13,121,33,118,101,17,48,139,56,137,110,119,45,88,31,146,123,30,84,19,18,75,95,23,142,144,9,141,81,44,24,116,24,99,9,10,99,24,136,80,71,17,139,40,19,107,80,139,69,138,75,57,106,113,37,141,4,125,39,109,110,97,127,40,83,40,125,67,37,65,93,103,140,43,80,39,52,51,81,37,72,138,149,147,107,12,45,144,107,105,34,73,15,129,132,149,38,14,22,74,133,43,125,55,30,140,145,51,108,75,55,17,143,18,41,83,71,9,55,26,0,32,70,72,29,91,134,24,34,146,102,9,91,125,64,70,111,69,87,10,123,144,128,2,37,2,131,114,150,100,76,7,140,95,100,17,74,87,68,20,1,36,20,116,33,121,79,37,96,31,15,27,141,53,19,105,115,106,42,88,15,35,68,133,105,48,83,64,18,33,89,106,90,20,97,148,126,44,3,145,90,105,84,85,60,52,15,2,59,0,66,3,148,117,118,36,104,136,40,111,120,55,26,106,106,124,91,7,14,8,133,131,44,30,36,11,106,88,39,84,24,101,29,82,144,46,64,102,88,45,53,101,84,50,67,7,29,80,59,57,27,131,88,126,139,63,12,1,92,43,150,88,133,129,135,73,116,84,99,142,70,1,88,51,49,68,50,75,42,102,46,12,147,125,13,117,101,18,0,77,0,5,52,132,32,39,82,98,36,101,137,44,0,112,83,32,142,79,110,147,28,54,150,21,41,126,56,141,85,64,146,91,83,140,76,88,7,78,81,78,119,63,87,69,72,36,90,11,136,100,128,44,103,101,99,95,87,22,21,138,107,49,149,100,134,120,117,117,17,143,82,96,71,118,21,150,143,7,146,88,71,58,47,78,30,102,13,97,51,68,61,122,134,107,66,52,75,0,129,89,143,16,17,15,139,89,38,93,7,136,30,25,1,100,48,105,86,88,2,135,22,110,99,55,122,20,21,133,42,19,64,67,139,100,71,72,52,127,1,37,30,55,123,128,124,99,73,85,14,142,146,0,59,97,43,15,25,137,49,52,95,70,121,33,26,147,42,118,0,111,25,126,42,98,110,30,128,148,43,87,27,98,80,115,132,46,20,25,57,94,96,29,122,131,79,140,133,95,60,67,75,111,98,118,27,6,74,78,13,53,64,103,145,34,122,100,146,9,101,73,11,104,36,37,118,99,37,136,57,41,3,7,138,142,49,75,73,90,79,131,56,73,127,55,46,13,74,112,115,36,34,85,103,85,25,10,100,145,1,114,128,60,82,149,45,76,10,85,30,125,145,100,126,7,103,5,124,1,52,117,74,5,131,22,15,104,91,92,94,42,42,55,1,109,35,17,102,106,117,49,104,59,27,136,103,39,109,32,58,146,87,18,119,12,115,108,7,79,41,26,77,54,144,102,121,90,30,66,8,79,54,59,7,116,135,23,2,88,94,40,137],\"type\":\"box\"}],                        {\"template\":{\"data\":{\"histogram2dcontour\":[{\"type\":\"histogram2dcontour\",\"colorbar\":{\"outlinewidth\":0,\"ticks\":\"\"},\"colorscale\":[[0.0,\"#0d0887\"],[0.1111111111111111,\"#46039f\"],[0.2222222222222222,\"#7201a8\"],[0.3333333333333333,\"#9c179e\"],[0.4444444444444444,\"#bd3786\"],[0.5555555555555556,\"#d8576b\"],[0.6666666666666666,\"#ed7953\"],[0.7777777777777778,\"#fb9f3a\"],[0.8888888888888888,\"#fdca26\"],[1.0,\"#f0f921\"]]}],\"choropleth\":[{\"type\":\"choropleth\",\"colorbar\":{\"outlinewidth\":0,\"ticks\":\"\"}}],\"histogram2d\":[{\"type\":\"histogram2d\",\"colorbar\":{\"outlinewidth\":0,\"ticks\":\"\"},\"colorscale\":[[0.0,\"#0d0887\"],[0.1111111111111111,\"#46039f\"],[0.2222222222222222,\"#7201a8\"],[0.3333333333333333,\"#9c179e\"],[0.4444444444444444,\"#bd3786\"],[0.5555555555555556,\"#d8576b\"],[0.6666666666666666,\"#ed7953\"],[0.7777777777777778,\"#fb9f3a\"],[0.8888888888888888,\"#fdca26\"],[1.0,\"#f0f921\"]]}],\"heatmap\":[{\"type\":\"heatmap\",\"colorbar\":{\"outlinewidth\":0,\"ticks\":\"\"},\"colorscale\":[[0.0,\"#0d0887\"],[0.1111111111111111,\"#46039f\"],[0.2222222222222222,\"#7201a8\"],[0.3333333333333333,\"#9c179e\"],[0.4444444444444444,\"#bd3786\"],[0.5555555555555556,\"#d8576b\"],[0.6666666666666666,\"#ed7953\"],[0.7777777777777778,\"#fb9f3a\"],[0.8888888888888888,\"#fdca26\"],[1.0,\"#f0f921\"]]}],\"heatmapgl\":[{\"type\":\"heatmapgl\",\"colorbar\":{\"outlinewidth\":0,\"ticks\":\"\"},\"colorscale\":[[0.0,\"#0d0887\"],[0.1111111111111111,\"#46039f\"],[0.2222222222222222,\"#7201a8\"],[0.3333333333333333,\"#9c179e\"],[0.4444444444444444,\"#bd3786\"],[0.5555555555555556,\"#d8576b\"],[0.6666666666666666,\"#ed7953\"],[0.7777777777777778,\"#fb9f3a\"],[0.8888888888888888,\"#fdca26\"],[1.0,\"#f0f921\"]]}],\"contourcarpet\":[{\"type\":\"contourcarpet\",\"colorbar\":{\"outlinewidth\":0,\"ticks\":\"\"}}],\"contour\":[{\"type\":\"contour\",\"colorbar\":{\"outlinewidth\":0,\"ticks\":\"\"},\"colorscale\":[[0.0,\"#0d0887\"],[0.1111111111111111,\"#46039f\"],[0.2222222222222222,\"#7201a8\"],[0.3333333333333333,\"#9c179e\"],[0.4444444444444444,\"#bd3786\"],[0.5555555555555556,\"#d8576b\"],[0.6666666666666666,\"#ed7953\"],[0.7777777777777778,\"#fb9f3a\"],[0.8888888888888888,\"#fdca26\"],[1.0,\"#f0f921\"]]}],\"surface\":[{\"type\":\"surface\",\"colorbar\":{\"outlinewidth\":0,\"ticks\":\"\"},\"colorscale\":[[0.0,\"#0d0887\"],[0.1111111111111111,\"#46039f\"],[0.2222222222222222,\"#7201a8\"],[0.3333333333333333,\"#9c179e\"],[0.4444444444444444,\"#bd3786\"],[0.5555555555555556,\"#d8576b\"],[0.6666666666666666,\"#ed7953\"],[0.7777777777777778,\"#fb9f3a\"],[0.8888888888888888,\"#fdca26\"],[1.0,\"#f0f921\"]]}],\"mesh3d\":[{\"type\":\"mesh3d\",\"colorbar\":{\"outlinewidth\":0,\"ticks\":\"\"}}],\"scatter\":[{\"fillpattern\":{\"fillmode\":\"overlay\",\"size\":10,\"solidity\":0.2},\"type\":\"scatter\"}],\"parcoords\":[{\"type\":\"parcoords\",\"line\":{\"colorbar\":{\"outlinewidth\":0,\"ticks\":\"\"}}}],\"scatterpolargl\":[{\"type\":\"scatterpolargl\",\"marker\":{\"colorbar\":{\"outlinewidth\":0,\"ticks\":\"\"}}}],\"bar\":[{\"error_x\":{\"color\":\"#2a3f5f\"},\"error_y\":{\"color\":\"#2a3f5f\"},\"marker\":{\"line\":{\"color\":\"#E5ECF6\",\"width\":0.5},\"pattern\":{\"fillmode\":\"overlay\",\"size\":10,\"solidity\":0.2}},\"type\":\"bar\"}],\"scattergeo\":[{\"type\":\"scattergeo\",\"marker\":{\"colorbar\":{\"outlinewidth\":0,\"ticks\":\"\"}}}],\"scatterpolar\":[{\"type\":\"scatterpolar\",\"marker\":{\"colorbar\":{\"outlinewidth\":0,\"ticks\":\"\"}}}],\"histogram\":[{\"marker\":{\"pattern\":{\"fillmode\":\"overlay\",\"size\":10,\"solidity\":0.2}},\"type\":\"histogram\"}],\"scattergl\":[{\"type\":\"scattergl\",\"marker\":{\"colorbar\":{\"outlinewidth\":0,\"ticks\":\"\"}}}],\"scatter3d\":[{\"type\":\"scatter3d\",\"line\":{\"colorbar\":{\"outlinewidth\":0,\"ticks\":\"\"}},\"marker\":{\"colorbar\":{\"outlinewidth\":0,\"ticks\":\"\"}}}],\"scattermapbox\":[{\"type\":\"scattermapbox\",\"marker\":{\"colorbar\":{\"outlinewidth\":0,\"ticks\":\"\"}}}],\"scatterternary\":[{\"type\":\"scatterternary\",\"marker\":{\"colorbar\":{\"outlinewidth\":0,\"ticks\":\"\"}}}],\"scattercarpet\":[{\"type\":\"scattercarpet\",\"marker\":{\"colorbar\":{\"outlinewidth\":0,\"ticks\":\"\"}}}],\"carpet\":[{\"aaxis\":{\"endlinecolor\":\"#2a3f5f\",\"gridcolor\":\"white\",\"linecolor\":\"white\",\"minorgridcolor\":\"white\",\"startlinecolor\":\"#2a3f5f\"},\"baxis\":{\"endlinecolor\":\"#2a3f5f\",\"gridcolor\":\"white\",\"linecolor\":\"white\",\"minorgridcolor\":\"white\",\"startlinecolor\":\"#2a3f5f\"},\"type\":\"carpet\"}],\"table\":[{\"cells\":{\"fill\":{\"color\":\"#EBF0F8\"},\"line\":{\"color\":\"white\"}},\"header\":{\"fill\":{\"color\":\"#C8D4E3\"},\"line\":{\"color\":\"white\"}},\"type\":\"table\"}],\"barpolar\":[{\"marker\":{\"line\":{\"color\":\"#E5ECF6\",\"width\":0.5},\"pattern\":{\"fillmode\":\"overlay\",\"size\":10,\"solidity\":0.2}},\"type\":\"barpolar\"}],\"pie\":[{\"automargin\":true,\"type\":\"pie\"}]},\"layout\":{\"autotypenumbers\":\"strict\",\"colorway\":[\"#636efa\",\"#EF553B\",\"#00cc96\",\"#ab63fa\",\"#FFA15A\",\"#19d3f3\",\"#FF6692\",\"#B6E880\",\"#FF97FF\",\"#FECB52\"],\"font\":{\"color\":\"#2a3f5f\"},\"hovermode\":\"closest\",\"hoverlabel\":{\"align\":\"left\"},\"paper_bgcolor\":\"white\",\"plot_bgcolor\":\"#E5ECF6\",\"polar\":{\"bgcolor\":\"#E5ECF6\",\"angularaxis\":{\"gridcolor\":\"white\",\"linecolor\":\"white\",\"ticks\":\"\"},\"radialaxis\":{\"gridcolor\":\"white\",\"linecolor\":\"white\",\"ticks\":\"\"}},\"ternary\":{\"bgcolor\":\"#E5ECF6\",\"aaxis\":{\"gridcolor\":\"white\",\"linecolor\":\"white\",\"ticks\":\"\"},\"baxis\":{\"gridcolor\":\"white\",\"linecolor\":\"white\",\"ticks\":\"\"},\"caxis\":{\"gridcolor\":\"white\",\"linecolor\":\"white\",\"ticks\":\"\"}},\"coloraxis\":{\"colorbar\":{\"outlinewidth\":0,\"ticks\":\"\"}},\"colorscale\":{\"sequential\":[[0.0,\"#0d0887\"],[0.1111111111111111,\"#46039f\"],[0.2222222222222222,\"#7201a8\"],[0.3333333333333333,\"#9c179e\"],[0.4444444444444444,\"#bd3786\"],[0.5555555555555556,\"#d8576b\"],[0.6666666666666666,\"#ed7953\"],[0.7777777777777778,\"#fb9f3a\"],[0.8888888888888888,\"#fdca26\"],[1.0,\"#f0f921\"]],\"sequentialminus\":[[0.0,\"#0d0887\"],[0.1111111111111111,\"#46039f\"],[0.2222222222222222,\"#7201a8\"],[0.3333333333333333,\"#9c179e\"],[0.4444444444444444,\"#bd3786\"],[0.5555555555555556,\"#d8576b\"],[0.6666666666666666,\"#ed7953\"],[0.7777777777777778,\"#fb9f3a\"],[0.8888888888888888,\"#fdca26\"],[1.0,\"#f0f921\"]],\"diverging\":[[0,\"#8e0152\"],[0.1,\"#c51b7d\"],[0.2,\"#de77ae\"],[0.3,\"#f1b6da\"],[0.4,\"#fde0ef\"],[0.5,\"#f7f7f7\"],[0.6,\"#e6f5d0\"],[0.7,\"#b8e186\"],[0.8,\"#7fbc41\"],[0.9,\"#4d9221\"],[1,\"#276419\"]]},\"xaxis\":{\"gridcolor\":\"white\",\"linecolor\":\"white\",\"ticks\":\"\",\"title\":{\"standoff\":15},\"zerolinecolor\":\"white\",\"automargin\":true,\"zerolinewidth\":2},\"yaxis\":{\"gridcolor\":\"white\",\"linecolor\":\"white\",\"ticks\":\"\",\"title\":{\"standoff\":15},\"zerolinecolor\":\"white\",\"automargin\":true,\"zerolinewidth\":2},\"scene\":{\"xaxis\":{\"backgroundcolor\":\"#E5ECF6\",\"gridcolor\":\"white\",\"linecolor\":\"white\",\"showbackground\":true,\"ticks\":\"\",\"zerolinecolor\":\"white\",\"gridwidth\":2},\"yaxis\":{\"backgroundcolor\":\"#E5ECF6\",\"gridcolor\":\"white\",\"linecolor\":\"white\",\"showbackground\":true,\"ticks\":\"\",\"zerolinecolor\":\"white\",\"gridwidth\":2},\"zaxis\":{\"backgroundcolor\":\"#E5ECF6\",\"gridcolor\":\"white\",\"linecolor\":\"white\",\"showbackground\":true,\"ticks\":\"\",\"zerolinecolor\":\"white\",\"gridwidth\":2}},\"shapedefaults\":{\"line\":{\"color\":\"#2a3f5f\"}},\"annotationdefaults\":{\"arrowcolor\":\"#2a3f5f\",\"arrowhead\":0,\"arrowwidth\":1},\"geo\":{\"bgcolor\":\"white\",\"landcolor\":\"#E5ECF6\",\"subunitcolor\":\"white\",\"showland\":true,\"showlakes\":true,\"lakecolor\":\"white\"},\"title\":{\"x\":0.05},\"mapbox\":{\"style\":\"light\"}}},\"yaxis\":{\"title\":{\"text\":\"Library Concentration\"}}},                        {\"responsive\": true}                    ).then(function(){\n",
       "                            \n",
       "var gd = document.getElementById('c5a92d87-d9cf-476c-9b20-4c3466432c8c');\n",
       "var x = new MutationObserver(function (mutations, observer) {{\n",
       "        var display = window.getComputedStyle(gd).display;\n",
       "        if (!display || display === 'none') {{\n",
       "            console.log([gd, 'removed!']);\n",
       "            Plotly.purge(gd);\n",
       "            observer.disconnect();\n",
       "        }}\n",
       "}});\n",
       "\n",
       "// Listen for the removal of the full notebook cells\n",
       "var notebookContainer = gd.closest('#notebook-container');\n",
       "if (notebookContainer) {{\n",
       "    x.observe(notebookContainer, {childList: true});\n",
       "}}\n",
       "\n",
       "// Listen for the clearing of the current output cell\n",
       "var outputEl = gd.closest('.output');\n",
       "if (outputEl) {{\n",
       "    x.observe(outputEl, {childList: true});\n",
       "}}\n",
       "\n",
       "                        })                };                });            </script>        </div>"
      ]
     },
     "metadata": {},
     "output_type": "display_data"
    }
   ],
   "source": [
    "fig = go.Figure()\n",
    "\n",
    "fig.add_trace(\n",
    "    go.Box(\n",
    "        y=df.query(\"sample_type == 'DNA'\")[\"Library Concentration\"], \n",
    "        name='DNA',\n",
    "        marker_color = red_color\n",
    "    )\n",
    ")\n",
    "\n",
    "fig.add_trace(\n",
    "    go.Box(\n",
    "        y=df.query(\"sample_type == 'RNA'\")[\"Library Concentration\"], \n",
    "        name='RNA',\n",
    "        marker_color = blue_color\n",
    "    )\n",
    ")\n",
    "\n",
    "fig.update_layout(\n",
    "    yaxis_title='Library Concentration'\n",
    ")\n",
    "\n",
    "fig.show()"
   ]
  },
  {
   "cell_type": "markdown",
   "id": "43d1fc6f",
   "metadata": {},
   "source": [
    "#### Распределение Library Concentration по типу образцов (DNA/RNA) с границами QC"
   ]
  },
  {
   "cell_type": "code",
   "execution_count": 188,
   "id": "fb0efbd5",
   "metadata": {},
   "outputs": [],
   "source": [
    "bin_number = math.ceil((df[\"Library Concentration\"].max() - df[\"Library Concentration\"].min()) / 5)"
   ]
  },
  {
   "cell_type": "code",
   "execution_count": 189,
   "id": "38f27dd9",
   "metadata": {},
   "outputs": [],
   "source": [
    "df[\"Library Concentration_bin\"] = pd.cut(df[\"Library Concentration\"],bin_number,right=False)"
   ]
  },
  {
   "cell_type": "code",
   "execution_count": 190,
   "id": "2daff278",
   "metadata": {},
   "outputs": [],
   "source": [
    "library_concentration_report = pd.pivot_table(\n",
    "    df.groupby([\"Library Concentration_bin\",\"sample_type\"]).agg({\"Sample sheet_Sample_ID\":\"nunique\"}),\n",
    "    index=\"Library Concentration_bin\",\n",
    "    columns=\"sample_type\",\n",
    "    values=\"Sample sheet_Sample_ID\"\n",
    ").reset_index()\n",
    "\n",
    "library_concentration_report[\"right_border\"] = library_concentration_report[\"Library Concentration_bin\"].apply(\n",
    "    lambda x: int(x.right)\n",
    ")\n",
    "\n",
    "library_concentration_report[\"left_border\"] = library_concentration_report[\"Library Concentration_bin\"].apply(\n",
    "    lambda x: int(x.right)\n",
    ")"
   ]
  },
  {
   "cell_type": "code",
   "execution_count": 191,
   "id": "b9bf1def",
   "metadata": {},
   "outputs": [],
   "source": [
    "library_concentration_report[\"Library Concentration_bin_label\"] = (\n",
    "    library_concentration_report[\"Library Concentration_bin\"].apply(\n",
    "        lambda x: f\"{int(x.left)} <= LC < {int(x.right)}\"\n",
    "    )\n",
    ")"
   ]
  },
  {
   "cell_type": "code",
   "execution_count": 200,
   "id": "80a33fb0",
   "metadata": {},
   "outputs": [
    {
     "data": {
      "application/vnd.plotly.v1+json": {
       "config": {
        "plotlyServerURL": "https://plot.ly"
       },
       "data": [
        {
         "marker": {
          "color": [
           "#E93F36",
           "#E93F36",
           "#04104E",
           "#04104E",
           "#04104E",
           "#04104E",
           "#04104E",
           "#04104E",
           "#04104E",
           "#04104E",
           "#04104E",
           "#04104E",
           "#04104E",
           "#04104E",
           "#04104E",
           "#04104E",
           "#04104E",
           "#04104E",
           "#04104E",
           "#04104E",
           "#E93F36",
           "#E93F36",
           "#E93F36",
           "#E93F36",
           "#E93F36",
           "#E93F36",
           "#E93F36",
           "#E93F36",
           "#E93F36",
           "#E93F36"
          ]
         },
         "type": "bar",
         "x": [
          "0 <= LC < 5",
          "5 <= LC < 10",
          "10 <= LC < 15",
          "15 <= LC < 20",
          "20 <= LC < 25",
          "25 <= LC < 30",
          "30 <= LC < 35",
          "35 <= LC < 40",
          "40 <= LC < 45",
          "45 <= LC < 50",
          "50 <= LC < 55",
          "55 <= LC < 60",
          "60 <= LC < 65",
          "65 <= LC < 70",
          "70 <= LC < 75",
          "75 <= LC < 80",
          "80 <= LC < 85",
          "85 <= LC < 90",
          "90 <= LC < 95",
          "95 <= LC < 100",
          "100 <= LC < 105",
          "105 <= LC < 110",
          "110 <= LC < 115",
          "115 <= LC < 120",
          "120 <= LC < 125",
          "125 <= LC < 130",
          "130 <= LC < 135",
          "135 <= LC < 140",
          "140 <= LC < 145",
          "145 <= LC < 150"
         ],
         "y": [
          54,
          47,
          52,
          50,
          62,
          40,
          35,
          46,
          53,
          41,
          43,
          63,
          48,
          56,
          59,
          58,
          52,
          56,
          52,
          51,
          37,
          53,
          41,
          58,
          38,
          61,
          56,
          40,
          46,
          66
         ]
        }
       ],
       "layout": {
        "template": {
         "data": {
          "bar": [
           {
            "error_x": {
             "color": "#2a3f5f"
            },
            "error_y": {
             "color": "#2a3f5f"
            },
            "marker": {
             "line": {
              "color": "#E5ECF6",
              "width": 0.5
             },
             "pattern": {
              "fillmode": "overlay",
              "size": 10,
              "solidity": 0.2
             }
            },
            "type": "bar"
           }
          ],
          "barpolar": [
           {
            "marker": {
             "line": {
              "color": "#E5ECF6",
              "width": 0.5
             },
             "pattern": {
              "fillmode": "overlay",
              "size": 10,
              "solidity": 0.2
             }
            },
            "type": "barpolar"
           }
          ],
          "carpet": [
           {
            "aaxis": {
             "endlinecolor": "#2a3f5f",
             "gridcolor": "white",
             "linecolor": "white",
             "minorgridcolor": "white",
             "startlinecolor": "#2a3f5f"
            },
            "baxis": {
             "endlinecolor": "#2a3f5f",
             "gridcolor": "white",
             "linecolor": "white",
             "minorgridcolor": "white",
             "startlinecolor": "#2a3f5f"
            },
            "type": "carpet"
           }
          ],
          "choropleth": [
           {
            "colorbar": {
             "outlinewidth": 0,
             "ticks": ""
            },
            "type": "choropleth"
           }
          ],
          "contour": [
           {
            "colorbar": {
             "outlinewidth": 0,
             "ticks": ""
            },
            "colorscale": [
             [
              0,
              "#0d0887"
             ],
             [
              0.1111111111111111,
              "#46039f"
             ],
             [
              0.2222222222222222,
              "#7201a8"
             ],
             [
              0.3333333333333333,
              "#9c179e"
             ],
             [
              0.4444444444444444,
              "#bd3786"
             ],
             [
              0.5555555555555556,
              "#d8576b"
             ],
             [
              0.6666666666666666,
              "#ed7953"
             ],
             [
              0.7777777777777778,
              "#fb9f3a"
             ],
             [
              0.8888888888888888,
              "#fdca26"
             ],
             [
              1,
              "#f0f921"
             ]
            ],
            "type": "contour"
           }
          ],
          "contourcarpet": [
           {
            "colorbar": {
             "outlinewidth": 0,
             "ticks": ""
            },
            "type": "contourcarpet"
           }
          ],
          "heatmap": [
           {
            "colorbar": {
             "outlinewidth": 0,
             "ticks": ""
            },
            "colorscale": [
             [
              0,
              "#0d0887"
             ],
             [
              0.1111111111111111,
              "#46039f"
             ],
             [
              0.2222222222222222,
              "#7201a8"
             ],
             [
              0.3333333333333333,
              "#9c179e"
             ],
             [
              0.4444444444444444,
              "#bd3786"
             ],
             [
              0.5555555555555556,
              "#d8576b"
             ],
             [
              0.6666666666666666,
              "#ed7953"
             ],
             [
              0.7777777777777778,
              "#fb9f3a"
             ],
             [
              0.8888888888888888,
              "#fdca26"
             ],
             [
              1,
              "#f0f921"
             ]
            ],
            "type": "heatmap"
           }
          ],
          "heatmapgl": [
           {
            "colorbar": {
             "outlinewidth": 0,
             "ticks": ""
            },
            "colorscale": [
             [
              0,
              "#0d0887"
             ],
             [
              0.1111111111111111,
              "#46039f"
             ],
             [
              0.2222222222222222,
              "#7201a8"
             ],
             [
              0.3333333333333333,
              "#9c179e"
             ],
             [
              0.4444444444444444,
              "#bd3786"
             ],
             [
              0.5555555555555556,
              "#d8576b"
             ],
             [
              0.6666666666666666,
              "#ed7953"
             ],
             [
              0.7777777777777778,
              "#fb9f3a"
             ],
             [
              0.8888888888888888,
              "#fdca26"
             ],
             [
              1,
              "#f0f921"
             ]
            ],
            "type": "heatmapgl"
           }
          ],
          "histogram": [
           {
            "marker": {
             "pattern": {
              "fillmode": "overlay",
              "size": 10,
              "solidity": 0.2
             }
            },
            "type": "histogram"
           }
          ],
          "histogram2d": [
           {
            "colorbar": {
             "outlinewidth": 0,
             "ticks": ""
            },
            "colorscale": [
             [
              0,
              "#0d0887"
             ],
             [
              0.1111111111111111,
              "#46039f"
             ],
             [
              0.2222222222222222,
              "#7201a8"
             ],
             [
              0.3333333333333333,
              "#9c179e"
             ],
             [
              0.4444444444444444,
              "#bd3786"
             ],
             [
              0.5555555555555556,
              "#d8576b"
             ],
             [
              0.6666666666666666,
              "#ed7953"
             ],
             [
              0.7777777777777778,
              "#fb9f3a"
             ],
             [
              0.8888888888888888,
              "#fdca26"
             ],
             [
              1,
              "#f0f921"
             ]
            ],
            "type": "histogram2d"
           }
          ],
          "histogram2dcontour": [
           {
            "colorbar": {
             "outlinewidth": 0,
             "ticks": ""
            },
            "colorscale": [
             [
              0,
              "#0d0887"
             ],
             [
              0.1111111111111111,
              "#46039f"
             ],
             [
              0.2222222222222222,
              "#7201a8"
             ],
             [
              0.3333333333333333,
              "#9c179e"
             ],
             [
              0.4444444444444444,
              "#bd3786"
             ],
             [
              0.5555555555555556,
              "#d8576b"
             ],
             [
              0.6666666666666666,
              "#ed7953"
             ],
             [
              0.7777777777777778,
              "#fb9f3a"
             ],
             [
              0.8888888888888888,
              "#fdca26"
             ],
             [
              1,
              "#f0f921"
             ]
            ],
            "type": "histogram2dcontour"
           }
          ],
          "mesh3d": [
           {
            "colorbar": {
             "outlinewidth": 0,
             "ticks": ""
            },
            "type": "mesh3d"
           }
          ],
          "parcoords": [
           {
            "line": {
             "colorbar": {
              "outlinewidth": 0,
              "ticks": ""
             }
            },
            "type": "parcoords"
           }
          ],
          "pie": [
           {
            "automargin": true,
            "type": "pie"
           }
          ],
          "scatter": [
           {
            "fillpattern": {
             "fillmode": "overlay",
             "size": 10,
             "solidity": 0.2
            },
            "type": "scatter"
           }
          ],
          "scatter3d": [
           {
            "line": {
             "colorbar": {
              "outlinewidth": 0,
              "ticks": ""
             }
            },
            "marker": {
             "colorbar": {
              "outlinewidth": 0,
              "ticks": ""
             }
            },
            "type": "scatter3d"
           }
          ],
          "scattercarpet": [
           {
            "marker": {
             "colorbar": {
              "outlinewidth": 0,
              "ticks": ""
             }
            },
            "type": "scattercarpet"
           }
          ],
          "scattergeo": [
           {
            "marker": {
             "colorbar": {
              "outlinewidth": 0,
              "ticks": ""
             }
            },
            "type": "scattergeo"
           }
          ],
          "scattergl": [
           {
            "marker": {
             "colorbar": {
              "outlinewidth": 0,
              "ticks": ""
             }
            },
            "type": "scattergl"
           }
          ],
          "scattermapbox": [
           {
            "marker": {
             "colorbar": {
              "outlinewidth": 0,
              "ticks": ""
             }
            },
            "type": "scattermapbox"
           }
          ],
          "scatterpolar": [
           {
            "marker": {
             "colorbar": {
              "outlinewidth": 0,
              "ticks": ""
             }
            },
            "type": "scatterpolar"
           }
          ],
          "scatterpolargl": [
           {
            "marker": {
             "colorbar": {
              "outlinewidth": 0,
              "ticks": ""
             }
            },
            "type": "scatterpolargl"
           }
          ],
          "scatterternary": [
           {
            "marker": {
             "colorbar": {
              "outlinewidth": 0,
              "ticks": ""
             }
            },
            "type": "scatterternary"
           }
          ],
          "surface": [
           {
            "colorbar": {
             "outlinewidth": 0,
             "ticks": ""
            },
            "colorscale": [
             [
              0,
              "#0d0887"
             ],
             [
              0.1111111111111111,
              "#46039f"
             ],
             [
              0.2222222222222222,
              "#7201a8"
             ],
             [
              0.3333333333333333,
              "#9c179e"
             ],
             [
              0.4444444444444444,
              "#bd3786"
             ],
             [
              0.5555555555555556,
              "#d8576b"
             ],
             [
              0.6666666666666666,
              "#ed7953"
             ],
             [
              0.7777777777777778,
              "#fb9f3a"
             ],
             [
              0.8888888888888888,
              "#fdca26"
             ],
             [
              1,
              "#f0f921"
             ]
            ],
            "type": "surface"
           }
          ],
          "table": [
           {
            "cells": {
             "fill": {
              "color": "#EBF0F8"
             },
             "line": {
              "color": "white"
             }
            },
            "header": {
             "fill": {
              "color": "#C8D4E3"
             },
             "line": {
              "color": "white"
             }
            },
            "type": "table"
           }
          ]
         },
         "layout": {
          "annotationdefaults": {
           "arrowcolor": "#2a3f5f",
           "arrowhead": 0,
           "arrowwidth": 1
          },
          "autotypenumbers": "strict",
          "coloraxis": {
           "colorbar": {
            "outlinewidth": 0,
            "ticks": ""
           }
          },
          "colorscale": {
           "diverging": [
            [
             0,
             "#8e0152"
            ],
            [
             0.1,
             "#c51b7d"
            ],
            [
             0.2,
             "#de77ae"
            ],
            [
             0.3,
             "#f1b6da"
            ],
            [
             0.4,
             "#fde0ef"
            ],
            [
             0.5,
             "#f7f7f7"
            ],
            [
             0.6,
             "#e6f5d0"
            ],
            [
             0.7,
             "#b8e186"
            ],
            [
             0.8,
             "#7fbc41"
            ],
            [
             0.9,
             "#4d9221"
            ],
            [
             1,
             "#276419"
            ]
           ],
           "sequential": [
            [
             0,
             "#0d0887"
            ],
            [
             0.1111111111111111,
             "#46039f"
            ],
            [
             0.2222222222222222,
             "#7201a8"
            ],
            [
             0.3333333333333333,
             "#9c179e"
            ],
            [
             0.4444444444444444,
             "#bd3786"
            ],
            [
             0.5555555555555556,
             "#d8576b"
            ],
            [
             0.6666666666666666,
             "#ed7953"
            ],
            [
             0.7777777777777778,
             "#fb9f3a"
            ],
            [
             0.8888888888888888,
             "#fdca26"
            ],
            [
             1,
             "#f0f921"
            ]
           ],
           "sequentialminus": [
            [
             0,
             "#0d0887"
            ],
            [
             0.1111111111111111,
             "#46039f"
            ],
            [
             0.2222222222222222,
             "#7201a8"
            ],
            [
             0.3333333333333333,
             "#9c179e"
            ],
            [
             0.4444444444444444,
             "#bd3786"
            ],
            [
             0.5555555555555556,
             "#d8576b"
            ],
            [
             0.6666666666666666,
             "#ed7953"
            ],
            [
             0.7777777777777778,
             "#fb9f3a"
            ],
            [
             0.8888888888888888,
             "#fdca26"
            ],
            [
             1,
             "#f0f921"
            ]
           ]
          },
          "colorway": [
           "#636efa",
           "#EF553B",
           "#00cc96",
           "#ab63fa",
           "#FFA15A",
           "#19d3f3",
           "#FF6692",
           "#B6E880",
           "#FF97FF",
           "#FECB52"
          ],
          "font": {
           "color": "#2a3f5f"
          },
          "geo": {
           "bgcolor": "white",
           "lakecolor": "white",
           "landcolor": "#E5ECF6",
           "showlakes": true,
           "showland": true,
           "subunitcolor": "white"
          },
          "hoverlabel": {
           "align": "left"
          },
          "hovermode": "closest",
          "mapbox": {
           "style": "light"
          },
          "paper_bgcolor": "white",
          "plot_bgcolor": "#E5ECF6",
          "polar": {
           "angularaxis": {
            "gridcolor": "white",
            "linecolor": "white",
            "ticks": ""
           },
           "bgcolor": "#E5ECF6",
           "radialaxis": {
            "gridcolor": "white",
            "linecolor": "white",
            "ticks": ""
           }
          },
          "scene": {
           "xaxis": {
            "backgroundcolor": "#E5ECF6",
            "gridcolor": "white",
            "gridwidth": 2,
            "linecolor": "white",
            "showbackground": true,
            "ticks": "",
            "zerolinecolor": "white"
           },
           "yaxis": {
            "backgroundcolor": "#E5ECF6",
            "gridcolor": "white",
            "gridwidth": 2,
            "linecolor": "white",
            "showbackground": true,
            "ticks": "",
            "zerolinecolor": "white"
           },
           "zaxis": {
            "backgroundcolor": "#E5ECF6",
            "gridcolor": "white",
            "gridwidth": 2,
            "linecolor": "white",
            "showbackground": true,
            "ticks": "",
            "zerolinecolor": "white"
           }
          },
          "shapedefaults": {
           "line": {
            "color": "#2a3f5f"
           }
          },
          "ternary": {
           "aaxis": {
            "gridcolor": "white",
            "linecolor": "white",
            "ticks": ""
           },
           "baxis": {
            "gridcolor": "white",
            "linecolor": "white",
            "ticks": ""
           },
           "bgcolor": "#E5ECF6",
           "caxis": {
            "gridcolor": "white",
            "linecolor": "white",
            "ticks": ""
           }
          },
          "title": {
           "x": 0.05
          },
          "xaxis": {
           "automargin": true,
           "gridcolor": "white",
           "linecolor": "white",
           "ticks": "",
           "title": {
            "standoff": 15
           },
           "zerolinecolor": "white",
           "zerolinewidth": 2
          },
          "yaxis": {
           "automargin": true,
           "gridcolor": "white",
           "linecolor": "white",
           "ticks": "",
           "title": {
            "standoff": 15
           },
           "zerolinecolor": "white",
           "zerolinewidth": 2
          }
         }
        },
        "title": {
         "text": "Распределение Library Concentration для DNA образов (pass - blue bin, fail - red bin)"
        },
        "xaxis": {
         "tickangle": 45
        },
        "yaxis": {
         "title": {
          "text": "Количество образцов"
         }
        }
       }
      },
      "text/html": [
       "<div>                            <div id=\"56a9cc4c-407c-4b21-be8a-024b4536eb4d\" class=\"plotly-graph-div\" style=\"height:525px; width:100%;\"></div>            <script type=\"text/javascript\">                require([\"plotly\"], function(Plotly) {                    window.PLOTLYENV=window.PLOTLYENV || {};                                    if (document.getElementById(\"56a9cc4c-407c-4b21-be8a-024b4536eb4d\")) {                    Plotly.newPlot(                        \"56a9cc4c-407c-4b21-be8a-024b4536eb4d\",                        [{\"marker\":{\"color\":[\"#E93F36\",\"#E93F36\",\"#04104E\",\"#04104E\",\"#04104E\",\"#04104E\",\"#04104E\",\"#04104E\",\"#04104E\",\"#04104E\",\"#04104E\",\"#04104E\",\"#04104E\",\"#04104E\",\"#04104E\",\"#04104E\",\"#04104E\",\"#04104E\",\"#04104E\",\"#04104E\",\"#E93F36\",\"#E93F36\",\"#E93F36\",\"#E93F36\",\"#E93F36\",\"#E93F36\",\"#E93F36\",\"#E93F36\",\"#E93F36\",\"#E93F36\"]},\"x\":[\"0 <= LC < 5\",\"5 <= LC < 10\",\"10 <= LC < 15\",\"15 <= LC < 20\",\"20 <= LC < 25\",\"25 <= LC < 30\",\"30 <= LC < 35\",\"35 <= LC < 40\",\"40 <= LC < 45\",\"45 <= LC < 50\",\"50 <= LC < 55\",\"55 <= LC < 60\",\"60 <= LC < 65\",\"65 <= LC < 70\",\"70 <= LC < 75\",\"75 <= LC < 80\",\"80 <= LC < 85\",\"85 <= LC < 90\",\"90 <= LC < 95\",\"95 <= LC < 100\",\"100 <= LC < 105\",\"105 <= LC < 110\",\"110 <= LC < 115\",\"115 <= LC < 120\",\"120 <= LC < 125\",\"125 <= LC < 130\",\"130 <= LC < 135\",\"135 <= LC < 140\",\"140 <= LC < 145\",\"145 <= LC < 150\"],\"y\":[54,47,52,50,62,40,35,46,53,41,43,63,48,56,59,58,52,56,52,51,37,53,41,58,38,61,56,40,46,66],\"type\":\"bar\"}],                        {\"template\":{\"data\":{\"histogram2dcontour\":[{\"type\":\"histogram2dcontour\",\"colorbar\":{\"outlinewidth\":0,\"ticks\":\"\"},\"colorscale\":[[0.0,\"#0d0887\"],[0.1111111111111111,\"#46039f\"],[0.2222222222222222,\"#7201a8\"],[0.3333333333333333,\"#9c179e\"],[0.4444444444444444,\"#bd3786\"],[0.5555555555555556,\"#d8576b\"],[0.6666666666666666,\"#ed7953\"],[0.7777777777777778,\"#fb9f3a\"],[0.8888888888888888,\"#fdca26\"],[1.0,\"#f0f921\"]]}],\"choropleth\":[{\"type\":\"choropleth\",\"colorbar\":{\"outlinewidth\":0,\"ticks\":\"\"}}],\"histogram2d\":[{\"type\":\"histogram2d\",\"colorbar\":{\"outlinewidth\":0,\"ticks\":\"\"},\"colorscale\":[[0.0,\"#0d0887\"],[0.1111111111111111,\"#46039f\"],[0.2222222222222222,\"#7201a8\"],[0.3333333333333333,\"#9c179e\"],[0.4444444444444444,\"#bd3786\"],[0.5555555555555556,\"#d8576b\"],[0.6666666666666666,\"#ed7953\"],[0.7777777777777778,\"#fb9f3a\"],[0.8888888888888888,\"#fdca26\"],[1.0,\"#f0f921\"]]}],\"heatmap\":[{\"type\":\"heatmap\",\"colorbar\":{\"outlinewidth\":0,\"ticks\":\"\"},\"colorscale\":[[0.0,\"#0d0887\"],[0.1111111111111111,\"#46039f\"],[0.2222222222222222,\"#7201a8\"],[0.3333333333333333,\"#9c179e\"],[0.4444444444444444,\"#bd3786\"],[0.5555555555555556,\"#d8576b\"],[0.6666666666666666,\"#ed7953\"],[0.7777777777777778,\"#fb9f3a\"],[0.8888888888888888,\"#fdca26\"],[1.0,\"#f0f921\"]]}],\"heatmapgl\":[{\"type\":\"heatmapgl\",\"colorbar\":{\"outlinewidth\":0,\"ticks\":\"\"},\"colorscale\":[[0.0,\"#0d0887\"],[0.1111111111111111,\"#46039f\"],[0.2222222222222222,\"#7201a8\"],[0.3333333333333333,\"#9c179e\"],[0.4444444444444444,\"#bd3786\"],[0.5555555555555556,\"#d8576b\"],[0.6666666666666666,\"#ed7953\"],[0.7777777777777778,\"#fb9f3a\"],[0.8888888888888888,\"#fdca26\"],[1.0,\"#f0f921\"]]}],\"contourcarpet\":[{\"type\":\"contourcarpet\",\"colorbar\":{\"outlinewidth\":0,\"ticks\":\"\"}}],\"contour\":[{\"type\":\"contour\",\"colorbar\":{\"outlinewidth\":0,\"ticks\":\"\"},\"colorscale\":[[0.0,\"#0d0887\"],[0.1111111111111111,\"#46039f\"],[0.2222222222222222,\"#7201a8\"],[0.3333333333333333,\"#9c179e\"],[0.4444444444444444,\"#bd3786\"],[0.5555555555555556,\"#d8576b\"],[0.6666666666666666,\"#ed7953\"],[0.7777777777777778,\"#fb9f3a\"],[0.8888888888888888,\"#fdca26\"],[1.0,\"#f0f921\"]]}],\"surface\":[{\"type\":\"surface\",\"colorbar\":{\"outlinewidth\":0,\"ticks\":\"\"},\"colorscale\":[[0.0,\"#0d0887\"],[0.1111111111111111,\"#46039f\"],[0.2222222222222222,\"#7201a8\"],[0.3333333333333333,\"#9c179e\"],[0.4444444444444444,\"#bd3786\"],[0.5555555555555556,\"#d8576b\"],[0.6666666666666666,\"#ed7953\"],[0.7777777777777778,\"#fb9f3a\"],[0.8888888888888888,\"#fdca26\"],[1.0,\"#f0f921\"]]}],\"mesh3d\":[{\"type\":\"mesh3d\",\"colorbar\":{\"outlinewidth\":0,\"ticks\":\"\"}}],\"scatter\":[{\"fillpattern\":{\"fillmode\":\"overlay\",\"size\":10,\"solidity\":0.2},\"type\":\"scatter\"}],\"parcoords\":[{\"type\":\"parcoords\",\"line\":{\"colorbar\":{\"outlinewidth\":0,\"ticks\":\"\"}}}],\"scatterpolargl\":[{\"type\":\"scatterpolargl\",\"marker\":{\"colorbar\":{\"outlinewidth\":0,\"ticks\":\"\"}}}],\"bar\":[{\"error_x\":{\"color\":\"#2a3f5f\"},\"error_y\":{\"color\":\"#2a3f5f\"},\"marker\":{\"line\":{\"color\":\"#E5ECF6\",\"width\":0.5},\"pattern\":{\"fillmode\":\"overlay\",\"size\":10,\"solidity\":0.2}},\"type\":\"bar\"}],\"scattergeo\":[{\"type\":\"scattergeo\",\"marker\":{\"colorbar\":{\"outlinewidth\":0,\"ticks\":\"\"}}}],\"scatterpolar\":[{\"type\":\"scatterpolar\",\"marker\":{\"colorbar\":{\"outlinewidth\":0,\"ticks\":\"\"}}}],\"histogram\":[{\"marker\":{\"pattern\":{\"fillmode\":\"overlay\",\"size\":10,\"solidity\":0.2}},\"type\":\"histogram\"}],\"scattergl\":[{\"type\":\"scattergl\",\"marker\":{\"colorbar\":{\"outlinewidth\":0,\"ticks\":\"\"}}}],\"scatter3d\":[{\"type\":\"scatter3d\",\"line\":{\"colorbar\":{\"outlinewidth\":0,\"ticks\":\"\"}},\"marker\":{\"colorbar\":{\"outlinewidth\":0,\"ticks\":\"\"}}}],\"scattermapbox\":[{\"type\":\"scattermapbox\",\"marker\":{\"colorbar\":{\"outlinewidth\":0,\"ticks\":\"\"}}}],\"scatterternary\":[{\"type\":\"scatterternary\",\"marker\":{\"colorbar\":{\"outlinewidth\":0,\"ticks\":\"\"}}}],\"scattercarpet\":[{\"type\":\"scattercarpet\",\"marker\":{\"colorbar\":{\"outlinewidth\":0,\"ticks\":\"\"}}}],\"carpet\":[{\"aaxis\":{\"endlinecolor\":\"#2a3f5f\",\"gridcolor\":\"white\",\"linecolor\":\"white\",\"minorgridcolor\":\"white\",\"startlinecolor\":\"#2a3f5f\"},\"baxis\":{\"endlinecolor\":\"#2a3f5f\",\"gridcolor\":\"white\",\"linecolor\":\"white\",\"minorgridcolor\":\"white\",\"startlinecolor\":\"#2a3f5f\"},\"type\":\"carpet\"}],\"table\":[{\"cells\":{\"fill\":{\"color\":\"#EBF0F8\"},\"line\":{\"color\":\"white\"}},\"header\":{\"fill\":{\"color\":\"#C8D4E3\"},\"line\":{\"color\":\"white\"}},\"type\":\"table\"}],\"barpolar\":[{\"marker\":{\"line\":{\"color\":\"#E5ECF6\",\"width\":0.5},\"pattern\":{\"fillmode\":\"overlay\",\"size\":10,\"solidity\":0.2}},\"type\":\"barpolar\"}],\"pie\":[{\"automargin\":true,\"type\":\"pie\"}]},\"layout\":{\"autotypenumbers\":\"strict\",\"colorway\":[\"#636efa\",\"#EF553B\",\"#00cc96\",\"#ab63fa\",\"#FFA15A\",\"#19d3f3\",\"#FF6692\",\"#B6E880\",\"#FF97FF\",\"#FECB52\"],\"font\":{\"color\":\"#2a3f5f\"},\"hovermode\":\"closest\",\"hoverlabel\":{\"align\":\"left\"},\"paper_bgcolor\":\"white\",\"plot_bgcolor\":\"#E5ECF6\",\"polar\":{\"bgcolor\":\"#E5ECF6\",\"angularaxis\":{\"gridcolor\":\"white\",\"linecolor\":\"white\",\"ticks\":\"\"},\"radialaxis\":{\"gridcolor\":\"white\",\"linecolor\":\"white\",\"ticks\":\"\"}},\"ternary\":{\"bgcolor\":\"#E5ECF6\",\"aaxis\":{\"gridcolor\":\"white\",\"linecolor\":\"white\",\"ticks\":\"\"},\"baxis\":{\"gridcolor\":\"white\",\"linecolor\":\"white\",\"ticks\":\"\"},\"caxis\":{\"gridcolor\":\"white\",\"linecolor\":\"white\",\"ticks\":\"\"}},\"coloraxis\":{\"colorbar\":{\"outlinewidth\":0,\"ticks\":\"\"}},\"colorscale\":{\"sequential\":[[0.0,\"#0d0887\"],[0.1111111111111111,\"#46039f\"],[0.2222222222222222,\"#7201a8\"],[0.3333333333333333,\"#9c179e\"],[0.4444444444444444,\"#bd3786\"],[0.5555555555555556,\"#d8576b\"],[0.6666666666666666,\"#ed7953\"],[0.7777777777777778,\"#fb9f3a\"],[0.8888888888888888,\"#fdca26\"],[1.0,\"#f0f921\"]],\"sequentialminus\":[[0.0,\"#0d0887\"],[0.1111111111111111,\"#46039f\"],[0.2222222222222222,\"#7201a8\"],[0.3333333333333333,\"#9c179e\"],[0.4444444444444444,\"#bd3786\"],[0.5555555555555556,\"#d8576b\"],[0.6666666666666666,\"#ed7953\"],[0.7777777777777778,\"#fb9f3a\"],[0.8888888888888888,\"#fdca26\"],[1.0,\"#f0f921\"]],\"diverging\":[[0,\"#8e0152\"],[0.1,\"#c51b7d\"],[0.2,\"#de77ae\"],[0.3,\"#f1b6da\"],[0.4,\"#fde0ef\"],[0.5,\"#f7f7f7\"],[0.6,\"#e6f5d0\"],[0.7,\"#b8e186\"],[0.8,\"#7fbc41\"],[0.9,\"#4d9221\"],[1,\"#276419\"]]},\"xaxis\":{\"gridcolor\":\"white\",\"linecolor\":\"white\",\"ticks\":\"\",\"title\":{\"standoff\":15},\"zerolinecolor\":\"white\",\"automargin\":true,\"zerolinewidth\":2},\"yaxis\":{\"gridcolor\":\"white\",\"linecolor\":\"white\",\"ticks\":\"\",\"title\":{\"standoff\":15},\"zerolinecolor\":\"white\",\"automargin\":true,\"zerolinewidth\":2},\"scene\":{\"xaxis\":{\"backgroundcolor\":\"#E5ECF6\",\"gridcolor\":\"white\",\"linecolor\":\"white\",\"showbackground\":true,\"ticks\":\"\",\"zerolinecolor\":\"white\",\"gridwidth\":2},\"yaxis\":{\"backgroundcolor\":\"#E5ECF6\",\"gridcolor\":\"white\",\"linecolor\":\"white\",\"showbackground\":true,\"ticks\":\"\",\"zerolinecolor\":\"white\",\"gridwidth\":2},\"zaxis\":{\"backgroundcolor\":\"#E5ECF6\",\"gridcolor\":\"white\",\"linecolor\":\"white\",\"showbackground\":true,\"ticks\":\"\",\"zerolinecolor\":\"white\",\"gridwidth\":2}},\"shapedefaults\":{\"line\":{\"color\":\"#2a3f5f\"}},\"annotationdefaults\":{\"arrowcolor\":\"#2a3f5f\",\"arrowhead\":0,\"arrowwidth\":1},\"geo\":{\"bgcolor\":\"white\",\"landcolor\":\"#E5ECF6\",\"subunitcolor\":\"white\",\"showland\":true,\"showlakes\":true,\"lakecolor\":\"white\"},\"title\":{\"x\":0.05},\"mapbox\":{\"style\":\"light\"}}},\"title\":{\"text\":\"\\u0420\\u0430\\u0441\\u043f\\u0440\\u0435\\u0434\\u0435\\u043b\\u0435\\u043d\\u0438\\u0435 Library Concentration \\u0434\\u043b\\u044f DNA \\u043e\\u0431\\u0440\\u0430\\u0437\\u043e\\u0432 (pass - blue bin, fail - red bin)\"},\"yaxis\":{\"title\":{\"text\":\"\\u041a\\u043e\\u043b\\u0438\\u0447\\u0435\\u0441\\u0442\\u0432\\u043e \\u043e\\u0431\\u0440\\u0430\\u0437\\u0446\\u043e\\u0432\"}},\"xaxis\":{\"tickangle\":45}},                        {\"responsive\": true}                    ).then(function(){\n",
       "                            \n",
       "var gd = document.getElementById('56a9cc4c-407c-4b21-be8a-024b4536eb4d');\n",
       "var x = new MutationObserver(function (mutations, observer) {{\n",
       "        var display = window.getComputedStyle(gd).display;\n",
       "        if (!display || display === 'none') {{\n",
       "            console.log([gd, 'removed!']);\n",
       "            Plotly.purge(gd);\n",
       "            observer.disconnect();\n",
       "        }}\n",
       "}});\n",
       "\n",
       "// Listen for the removal of the full notebook cells\n",
       "var notebookContainer = gd.closest('#notebook-container');\n",
       "if (notebookContainer) {{\n",
       "    x.observe(notebookContainer, {childList: true});\n",
       "}}\n",
       "\n",
       "// Listen for the clearing of the current output cell\n",
       "var outputEl = gd.closest('.output');\n",
       "if (outputEl) {{\n",
       "    x.observe(outputEl, {childList: true});\n",
       "}}\n",
       "\n",
       "                        })                };                });            </script>        </div>"
      ]
     },
     "metadata": {},
     "output_type": "display_data"
    }
   ],
   "source": [
    "library_concentration_report[\"Library Concentration_bin_color_dna\"] = np.select(\n",
    "    [\n",
    "        (library_concentration_report[\"left_border\"] <= 10) \n",
    "        | (library_concentration_report[\"right_border\"] > 100)\n",
    "    ],[red_color],default=blue_color\n",
    ")\n",
    "\n",
    "fig = go.Figure()\n",
    "\n",
    "fig.add_trace(\n",
    "    go.Bar(\n",
    "        x=library_concentration_report[\"Library Concentration_bin_label\"], \n",
    "        y=library_concentration_report[\"DNA\"],\n",
    "        marker_color=library_concentration_report[\"Library Concentration_bin_color_dna\"]\n",
    "    )\n",
    ")\n",
    "\n",
    "fig.update_layout(\n",
    "    title_text=\"Распределение Library Concentration для DNA образов (pass - blue bin, fail - red bin)\",\n",
    "    yaxis_title=\"Количество образцов\"\n",
    ")\n",
    "\n",
    "fig.update_xaxes(tickangle=45)\n",
    "\n",
    "fig.show()"
   ]
  },
  {
   "cell_type": "code",
   "execution_count": 201,
   "id": "e6e29ca9",
   "metadata": {},
   "outputs": [
    {
     "data": {
      "application/vnd.plotly.v1+json": {
       "config": {
        "plotlyServerURL": "https://plot.ly"
       },
       "data": [
        {
         "marker": {
          "color": [
           "#E93F36",
           "#E93F36",
           "#E93F36",
           "#04104E",
           "#04104E",
           "#04104E",
           "#04104E",
           "#04104E",
           "#04104E",
           "#04104E",
           "#04104E",
           "#04104E",
           "#04104E",
           "#04104E",
           "#04104E",
           "#04104E",
           "#04104E",
           "#04104E",
           "#04104E",
           "#04104E",
           "#04104E",
           "#04104E",
           "#E93F36",
           "#E93F36",
           "#E93F36",
           "#E93F36",
           "#E93F36",
           "#E93F36",
           "#E93F36",
           "#E93F36"
          ]
         },
         "type": "bar",
         "x": [
          "0 <= LC < 5",
          "5 <= LC < 10",
          "10 <= LC < 15",
          "15 <= LC < 20",
          "20 <= LC < 25",
          "25 <= LC < 30",
          "30 <= LC < 35",
          "35 <= LC < 40",
          "40 <= LC < 45",
          "45 <= LC < 50",
          "50 <= LC < 55",
          "55 <= LC < 60",
          "60 <= LC < 65",
          "65 <= LC < 70",
          "70 <= LC < 75",
          "75 <= LC < 80",
          "80 <= LC < 85",
          "85 <= LC < 90",
          "90 <= LC < 95",
          "95 <= LC < 100",
          "100 <= LC < 105",
          "105 <= LC < 110",
          "110 <= LC < 115",
          "115 <= LC < 120",
          "120 <= LC < 125",
          "125 <= LC < 130",
          "130 <= LC < 135",
          "135 <= LC < 140",
          "140 <= LC < 145",
          "145 <= LC < 150"
         ],
         "y": [
          28,
          22,
          21,
          26,
          21,
          21,
          24,
          26,
          29,
          18,
          20,
          24,
          12,
          18,
          25,
          23,
          25,
          28,
          20,
          26,
          33,
          26,
          15,
          24,
          18,
          24,
          21,
          25,
          26,
          30
         ]
        }
       ],
       "layout": {
        "template": {
         "data": {
          "bar": [
           {
            "error_x": {
             "color": "#2a3f5f"
            },
            "error_y": {
             "color": "#2a3f5f"
            },
            "marker": {
             "line": {
              "color": "#E5ECF6",
              "width": 0.5
             },
             "pattern": {
              "fillmode": "overlay",
              "size": 10,
              "solidity": 0.2
             }
            },
            "type": "bar"
           }
          ],
          "barpolar": [
           {
            "marker": {
             "line": {
              "color": "#E5ECF6",
              "width": 0.5
             },
             "pattern": {
              "fillmode": "overlay",
              "size": 10,
              "solidity": 0.2
             }
            },
            "type": "barpolar"
           }
          ],
          "carpet": [
           {
            "aaxis": {
             "endlinecolor": "#2a3f5f",
             "gridcolor": "white",
             "linecolor": "white",
             "minorgridcolor": "white",
             "startlinecolor": "#2a3f5f"
            },
            "baxis": {
             "endlinecolor": "#2a3f5f",
             "gridcolor": "white",
             "linecolor": "white",
             "minorgridcolor": "white",
             "startlinecolor": "#2a3f5f"
            },
            "type": "carpet"
           }
          ],
          "choropleth": [
           {
            "colorbar": {
             "outlinewidth": 0,
             "ticks": ""
            },
            "type": "choropleth"
           }
          ],
          "contour": [
           {
            "colorbar": {
             "outlinewidth": 0,
             "ticks": ""
            },
            "colorscale": [
             [
              0,
              "#0d0887"
             ],
             [
              0.1111111111111111,
              "#46039f"
             ],
             [
              0.2222222222222222,
              "#7201a8"
             ],
             [
              0.3333333333333333,
              "#9c179e"
             ],
             [
              0.4444444444444444,
              "#bd3786"
             ],
             [
              0.5555555555555556,
              "#d8576b"
             ],
             [
              0.6666666666666666,
              "#ed7953"
             ],
             [
              0.7777777777777778,
              "#fb9f3a"
             ],
             [
              0.8888888888888888,
              "#fdca26"
             ],
             [
              1,
              "#f0f921"
             ]
            ],
            "type": "contour"
           }
          ],
          "contourcarpet": [
           {
            "colorbar": {
             "outlinewidth": 0,
             "ticks": ""
            },
            "type": "contourcarpet"
           }
          ],
          "heatmap": [
           {
            "colorbar": {
             "outlinewidth": 0,
             "ticks": ""
            },
            "colorscale": [
             [
              0,
              "#0d0887"
             ],
             [
              0.1111111111111111,
              "#46039f"
             ],
             [
              0.2222222222222222,
              "#7201a8"
             ],
             [
              0.3333333333333333,
              "#9c179e"
             ],
             [
              0.4444444444444444,
              "#bd3786"
             ],
             [
              0.5555555555555556,
              "#d8576b"
             ],
             [
              0.6666666666666666,
              "#ed7953"
             ],
             [
              0.7777777777777778,
              "#fb9f3a"
             ],
             [
              0.8888888888888888,
              "#fdca26"
             ],
             [
              1,
              "#f0f921"
             ]
            ],
            "type": "heatmap"
           }
          ],
          "heatmapgl": [
           {
            "colorbar": {
             "outlinewidth": 0,
             "ticks": ""
            },
            "colorscale": [
             [
              0,
              "#0d0887"
             ],
             [
              0.1111111111111111,
              "#46039f"
             ],
             [
              0.2222222222222222,
              "#7201a8"
             ],
             [
              0.3333333333333333,
              "#9c179e"
             ],
             [
              0.4444444444444444,
              "#bd3786"
             ],
             [
              0.5555555555555556,
              "#d8576b"
             ],
             [
              0.6666666666666666,
              "#ed7953"
             ],
             [
              0.7777777777777778,
              "#fb9f3a"
             ],
             [
              0.8888888888888888,
              "#fdca26"
             ],
             [
              1,
              "#f0f921"
             ]
            ],
            "type": "heatmapgl"
           }
          ],
          "histogram": [
           {
            "marker": {
             "pattern": {
              "fillmode": "overlay",
              "size": 10,
              "solidity": 0.2
             }
            },
            "type": "histogram"
           }
          ],
          "histogram2d": [
           {
            "colorbar": {
             "outlinewidth": 0,
             "ticks": ""
            },
            "colorscale": [
             [
              0,
              "#0d0887"
             ],
             [
              0.1111111111111111,
              "#46039f"
             ],
             [
              0.2222222222222222,
              "#7201a8"
             ],
             [
              0.3333333333333333,
              "#9c179e"
             ],
             [
              0.4444444444444444,
              "#bd3786"
             ],
             [
              0.5555555555555556,
              "#d8576b"
             ],
             [
              0.6666666666666666,
              "#ed7953"
             ],
             [
              0.7777777777777778,
              "#fb9f3a"
             ],
             [
              0.8888888888888888,
              "#fdca26"
             ],
             [
              1,
              "#f0f921"
             ]
            ],
            "type": "histogram2d"
           }
          ],
          "histogram2dcontour": [
           {
            "colorbar": {
             "outlinewidth": 0,
             "ticks": ""
            },
            "colorscale": [
             [
              0,
              "#0d0887"
             ],
             [
              0.1111111111111111,
              "#46039f"
             ],
             [
              0.2222222222222222,
              "#7201a8"
             ],
             [
              0.3333333333333333,
              "#9c179e"
             ],
             [
              0.4444444444444444,
              "#bd3786"
             ],
             [
              0.5555555555555556,
              "#d8576b"
             ],
             [
              0.6666666666666666,
              "#ed7953"
             ],
             [
              0.7777777777777778,
              "#fb9f3a"
             ],
             [
              0.8888888888888888,
              "#fdca26"
             ],
             [
              1,
              "#f0f921"
             ]
            ],
            "type": "histogram2dcontour"
           }
          ],
          "mesh3d": [
           {
            "colorbar": {
             "outlinewidth": 0,
             "ticks": ""
            },
            "type": "mesh3d"
           }
          ],
          "parcoords": [
           {
            "line": {
             "colorbar": {
              "outlinewidth": 0,
              "ticks": ""
             }
            },
            "type": "parcoords"
           }
          ],
          "pie": [
           {
            "automargin": true,
            "type": "pie"
           }
          ],
          "scatter": [
           {
            "fillpattern": {
             "fillmode": "overlay",
             "size": 10,
             "solidity": 0.2
            },
            "type": "scatter"
           }
          ],
          "scatter3d": [
           {
            "line": {
             "colorbar": {
              "outlinewidth": 0,
              "ticks": ""
             }
            },
            "marker": {
             "colorbar": {
              "outlinewidth": 0,
              "ticks": ""
             }
            },
            "type": "scatter3d"
           }
          ],
          "scattercarpet": [
           {
            "marker": {
             "colorbar": {
              "outlinewidth": 0,
              "ticks": ""
             }
            },
            "type": "scattercarpet"
           }
          ],
          "scattergeo": [
           {
            "marker": {
             "colorbar": {
              "outlinewidth": 0,
              "ticks": ""
             }
            },
            "type": "scattergeo"
           }
          ],
          "scattergl": [
           {
            "marker": {
             "colorbar": {
              "outlinewidth": 0,
              "ticks": ""
             }
            },
            "type": "scattergl"
           }
          ],
          "scattermapbox": [
           {
            "marker": {
             "colorbar": {
              "outlinewidth": 0,
              "ticks": ""
             }
            },
            "type": "scattermapbox"
           }
          ],
          "scatterpolar": [
           {
            "marker": {
             "colorbar": {
              "outlinewidth": 0,
              "ticks": ""
             }
            },
            "type": "scatterpolar"
           }
          ],
          "scatterpolargl": [
           {
            "marker": {
             "colorbar": {
              "outlinewidth": 0,
              "ticks": ""
             }
            },
            "type": "scatterpolargl"
           }
          ],
          "scatterternary": [
           {
            "marker": {
             "colorbar": {
              "outlinewidth": 0,
              "ticks": ""
             }
            },
            "type": "scatterternary"
           }
          ],
          "surface": [
           {
            "colorbar": {
             "outlinewidth": 0,
             "ticks": ""
            },
            "colorscale": [
             [
              0,
              "#0d0887"
             ],
             [
              0.1111111111111111,
              "#46039f"
             ],
             [
              0.2222222222222222,
              "#7201a8"
             ],
             [
              0.3333333333333333,
              "#9c179e"
             ],
             [
              0.4444444444444444,
              "#bd3786"
             ],
             [
              0.5555555555555556,
              "#d8576b"
             ],
             [
              0.6666666666666666,
              "#ed7953"
             ],
             [
              0.7777777777777778,
              "#fb9f3a"
             ],
             [
              0.8888888888888888,
              "#fdca26"
             ],
             [
              1,
              "#f0f921"
             ]
            ],
            "type": "surface"
           }
          ],
          "table": [
           {
            "cells": {
             "fill": {
              "color": "#EBF0F8"
             },
             "line": {
              "color": "white"
             }
            },
            "header": {
             "fill": {
              "color": "#C8D4E3"
             },
             "line": {
              "color": "white"
             }
            },
            "type": "table"
           }
          ]
         },
         "layout": {
          "annotationdefaults": {
           "arrowcolor": "#2a3f5f",
           "arrowhead": 0,
           "arrowwidth": 1
          },
          "autotypenumbers": "strict",
          "coloraxis": {
           "colorbar": {
            "outlinewidth": 0,
            "ticks": ""
           }
          },
          "colorscale": {
           "diverging": [
            [
             0,
             "#8e0152"
            ],
            [
             0.1,
             "#c51b7d"
            ],
            [
             0.2,
             "#de77ae"
            ],
            [
             0.3,
             "#f1b6da"
            ],
            [
             0.4,
             "#fde0ef"
            ],
            [
             0.5,
             "#f7f7f7"
            ],
            [
             0.6,
             "#e6f5d0"
            ],
            [
             0.7,
             "#b8e186"
            ],
            [
             0.8,
             "#7fbc41"
            ],
            [
             0.9,
             "#4d9221"
            ],
            [
             1,
             "#276419"
            ]
           ],
           "sequential": [
            [
             0,
             "#0d0887"
            ],
            [
             0.1111111111111111,
             "#46039f"
            ],
            [
             0.2222222222222222,
             "#7201a8"
            ],
            [
             0.3333333333333333,
             "#9c179e"
            ],
            [
             0.4444444444444444,
             "#bd3786"
            ],
            [
             0.5555555555555556,
             "#d8576b"
            ],
            [
             0.6666666666666666,
             "#ed7953"
            ],
            [
             0.7777777777777778,
             "#fb9f3a"
            ],
            [
             0.8888888888888888,
             "#fdca26"
            ],
            [
             1,
             "#f0f921"
            ]
           ],
           "sequentialminus": [
            [
             0,
             "#0d0887"
            ],
            [
             0.1111111111111111,
             "#46039f"
            ],
            [
             0.2222222222222222,
             "#7201a8"
            ],
            [
             0.3333333333333333,
             "#9c179e"
            ],
            [
             0.4444444444444444,
             "#bd3786"
            ],
            [
             0.5555555555555556,
             "#d8576b"
            ],
            [
             0.6666666666666666,
             "#ed7953"
            ],
            [
             0.7777777777777778,
             "#fb9f3a"
            ],
            [
             0.8888888888888888,
             "#fdca26"
            ],
            [
             1,
             "#f0f921"
            ]
           ]
          },
          "colorway": [
           "#636efa",
           "#EF553B",
           "#00cc96",
           "#ab63fa",
           "#FFA15A",
           "#19d3f3",
           "#FF6692",
           "#B6E880",
           "#FF97FF",
           "#FECB52"
          ],
          "font": {
           "color": "#2a3f5f"
          },
          "geo": {
           "bgcolor": "white",
           "lakecolor": "white",
           "landcolor": "#E5ECF6",
           "showlakes": true,
           "showland": true,
           "subunitcolor": "white"
          },
          "hoverlabel": {
           "align": "left"
          },
          "hovermode": "closest",
          "mapbox": {
           "style": "light"
          },
          "paper_bgcolor": "white",
          "plot_bgcolor": "#E5ECF6",
          "polar": {
           "angularaxis": {
            "gridcolor": "white",
            "linecolor": "white",
            "ticks": ""
           },
           "bgcolor": "#E5ECF6",
           "radialaxis": {
            "gridcolor": "white",
            "linecolor": "white",
            "ticks": ""
           }
          },
          "scene": {
           "xaxis": {
            "backgroundcolor": "#E5ECF6",
            "gridcolor": "white",
            "gridwidth": 2,
            "linecolor": "white",
            "showbackground": true,
            "ticks": "",
            "zerolinecolor": "white"
           },
           "yaxis": {
            "backgroundcolor": "#E5ECF6",
            "gridcolor": "white",
            "gridwidth": 2,
            "linecolor": "white",
            "showbackground": true,
            "ticks": "",
            "zerolinecolor": "white"
           },
           "zaxis": {
            "backgroundcolor": "#E5ECF6",
            "gridcolor": "white",
            "gridwidth": 2,
            "linecolor": "white",
            "showbackground": true,
            "ticks": "",
            "zerolinecolor": "white"
           }
          },
          "shapedefaults": {
           "line": {
            "color": "#2a3f5f"
           }
          },
          "ternary": {
           "aaxis": {
            "gridcolor": "white",
            "linecolor": "white",
            "ticks": ""
           },
           "baxis": {
            "gridcolor": "white",
            "linecolor": "white",
            "ticks": ""
           },
           "bgcolor": "#E5ECF6",
           "caxis": {
            "gridcolor": "white",
            "linecolor": "white",
            "ticks": ""
           }
          },
          "title": {
           "x": 0.05
          },
          "xaxis": {
           "automargin": true,
           "gridcolor": "white",
           "linecolor": "white",
           "ticks": "",
           "title": {
            "standoff": 15
           },
           "zerolinecolor": "white",
           "zerolinewidth": 2
          },
          "yaxis": {
           "automargin": true,
           "gridcolor": "white",
           "linecolor": "white",
           "ticks": "",
           "title": {
            "standoff": 15
           },
           "zerolinecolor": "white",
           "zerolinewidth": 2
          }
         }
        },
        "title": {
         "text": "Распределение Library Concentration для RNA образов (pass - blue bin, fail - red bin)"
        },
        "xaxis": {
         "tickangle": 45
        },
        "yaxis": {
         "title": {
          "text": "Количество образцов"
         }
        }
       }
      },
      "text/html": [
       "<div>                            <div id=\"c14f4579-6a14-4c6f-b39d-16add22b42fa\" class=\"plotly-graph-div\" style=\"height:525px; width:100%;\"></div>            <script type=\"text/javascript\">                require([\"plotly\"], function(Plotly) {                    window.PLOTLYENV=window.PLOTLYENV || {};                                    if (document.getElementById(\"c14f4579-6a14-4c6f-b39d-16add22b42fa\")) {                    Plotly.newPlot(                        \"c14f4579-6a14-4c6f-b39d-16add22b42fa\",                        [{\"marker\":{\"color\":[\"#E93F36\",\"#E93F36\",\"#E93F36\",\"#04104E\",\"#04104E\",\"#04104E\",\"#04104E\",\"#04104E\",\"#04104E\",\"#04104E\",\"#04104E\",\"#04104E\",\"#04104E\",\"#04104E\",\"#04104E\",\"#04104E\",\"#04104E\",\"#04104E\",\"#04104E\",\"#04104E\",\"#04104E\",\"#04104E\",\"#E93F36\",\"#E93F36\",\"#E93F36\",\"#E93F36\",\"#E93F36\",\"#E93F36\",\"#E93F36\",\"#E93F36\"]},\"x\":[\"0 <= LC < 5\",\"5 <= LC < 10\",\"10 <= LC < 15\",\"15 <= LC < 20\",\"20 <= LC < 25\",\"25 <= LC < 30\",\"30 <= LC < 35\",\"35 <= LC < 40\",\"40 <= LC < 45\",\"45 <= LC < 50\",\"50 <= LC < 55\",\"55 <= LC < 60\",\"60 <= LC < 65\",\"65 <= LC < 70\",\"70 <= LC < 75\",\"75 <= LC < 80\",\"80 <= LC < 85\",\"85 <= LC < 90\",\"90 <= LC < 95\",\"95 <= LC < 100\",\"100 <= LC < 105\",\"105 <= LC < 110\",\"110 <= LC < 115\",\"115 <= LC < 120\",\"120 <= LC < 125\",\"125 <= LC < 130\",\"130 <= LC < 135\",\"135 <= LC < 140\",\"140 <= LC < 145\",\"145 <= LC < 150\"],\"y\":[28,22,21,26,21,21,24,26,29,18,20,24,12,18,25,23,25,28,20,26,33,26,15,24,18,24,21,25,26,30],\"type\":\"bar\"}],                        {\"template\":{\"data\":{\"histogram2dcontour\":[{\"type\":\"histogram2dcontour\",\"colorbar\":{\"outlinewidth\":0,\"ticks\":\"\"},\"colorscale\":[[0.0,\"#0d0887\"],[0.1111111111111111,\"#46039f\"],[0.2222222222222222,\"#7201a8\"],[0.3333333333333333,\"#9c179e\"],[0.4444444444444444,\"#bd3786\"],[0.5555555555555556,\"#d8576b\"],[0.6666666666666666,\"#ed7953\"],[0.7777777777777778,\"#fb9f3a\"],[0.8888888888888888,\"#fdca26\"],[1.0,\"#f0f921\"]]}],\"choropleth\":[{\"type\":\"choropleth\",\"colorbar\":{\"outlinewidth\":0,\"ticks\":\"\"}}],\"histogram2d\":[{\"type\":\"histogram2d\",\"colorbar\":{\"outlinewidth\":0,\"ticks\":\"\"},\"colorscale\":[[0.0,\"#0d0887\"],[0.1111111111111111,\"#46039f\"],[0.2222222222222222,\"#7201a8\"],[0.3333333333333333,\"#9c179e\"],[0.4444444444444444,\"#bd3786\"],[0.5555555555555556,\"#d8576b\"],[0.6666666666666666,\"#ed7953\"],[0.7777777777777778,\"#fb9f3a\"],[0.8888888888888888,\"#fdca26\"],[1.0,\"#f0f921\"]]}],\"heatmap\":[{\"type\":\"heatmap\",\"colorbar\":{\"outlinewidth\":0,\"ticks\":\"\"},\"colorscale\":[[0.0,\"#0d0887\"],[0.1111111111111111,\"#46039f\"],[0.2222222222222222,\"#7201a8\"],[0.3333333333333333,\"#9c179e\"],[0.4444444444444444,\"#bd3786\"],[0.5555555555555556,\"#d8576b\"],[0.6666666666666666,\"#ed7953\"],[0.7777777777777778,\"#fb9f3a\"],[0.8888888888888888,\"#fdca26\"],[1.0,\"#f0f921\"]]}],\"heatmapgl\":[{\"type\":\"heatmapgl\",\"colorbar\":{\"outlinewidth\":0,\"ticks\":\"\"},\"colorscale\":[[0.0,\"#0d0887\"],[0.1111111111111111,\"#46039f\"],[0.2222222222222222,\"#7201a8\"],[0.3333333333333333,\"#9c179e\"],[0.4444444444444444,\"#bd3786\"],[0.5555555555555556,\"#d8576b\"],[0.6666666666666666,\"#ed7953\"],[0.7777777777777778,\"#fb9f3a\"],[0.8888888888888888,\"#fdca26\"],[1.0,\"#f0f921\"]]}],\"contourcarpet\":[{\"type\":\"contourcarpet\",\"colorbar\":{\"outlinewidth\":0,\"ticks\":\"\"}}],\"contour\":[{\"type\":\"contour\",\"colorbar\":{\"outlinewidth\":0,\"ticks\":\"\"},\"colorscale\":[[0.0,\"#0d0887\"],[0.1111111111111111,\"#46039f\"],[0.2222222222222222,\"#7201a8\"],[0.3333333333333333,\"#9c179e\"],[0.4444444444444444,\"#bd3786\"],[0.5555555555555556,\"#d8576b\"],[0.6666666666666666,\"#ed7953\"],[0.7777777777777778,\"#fb9f3a\"],[0.8888888888888888,\"#fdca26\"],[1.0,\"#f0f921\"]]}],\"surface\":[{\"type\":\"surface\",\"colorbar\":{\"outlinewidth\":0,\"ticks\":\"\"},\"colorscale\":[[0.0,\"#0d0887\"],[0.1111111111111111,\"#46039f\"],[0.2222222222222222,\"#7201a8\"],[0.3333333333333333,\"#9c179e\"],[0.4444444444444444,\"#bd3786\"],[0.5555555555555556,\"#d8576b\"],[0.6666666666666666,\"#ed7953\"],[0.7777777777777778,\"#fb9f3a\"],[0.8888888888888888,\"#fdca26\"],[1.0,\"#f0f921\"]]}],\"mesh3d\":[{\"type\":\"mesh3d\",\"colorbar\":{\"outlinewidth\":0,\"ticks\":\"\"}}],\"scatter\":[{\"fillpattern\":{\"fillmode\":\"overlay\",\"size\":10,\"solidity\":0.2},\"type\":\"scatter\"}],\"parcoords\":[{\"type\":\"parcoords\",\"line\":{\"colorbar\":{\"outlinewidth\":0,\"ticks\":\"\"}}}],\"scatterpolargl\":[{\"type\":\"scatterpolargl\",\"marker\":{\"colorbar\":{\"outlinewidth\":0,\"ticks\":\"\"}}}],\"bar\":[{\"error_x\":{\"color\":\"#2a3f5f\"},\"error_y\":{\"color\":\"#2a3f5f\"},\"marker\":{\"line\":{\"color\":\"#E5ECF6\",\"width\":0.5},\"pattern\":{\"fillmode\":\"overlay\",\"size\":10,\"solidity\":0.2}},\"type\":\"bar\"}],\"scattergeo\":[{\"type\":\"scattergeo\",\"marker\":{\"colorbar\":{\"outlinewidth\":0,\"ticks\":\"\"}}}],\"scatterpolar\":[{\"type\":\"scatterpolar\",\"marker\":{\"colorbar\":{\"outlinewidth\":0,\"ticks\":\"\"}}}],\"histogram\":[{\"marker\":{\"pattern\":{\"fillmode\":\"overlay\",\"size\":10,\"solidity\":0.2}},\"type\":\"histogram\"}],\"scattergl\":[{\"type\":\"scattergl\",\"marker\":{\"colorbar\":{\"outlinewidth\":0,\"ticks\":\"\"}}}],\"scatter3d\":[{\"type\":\"scatter3d\",\"line\":{\"colorbar\":{\"outlinewidth\":0,\"ticks\":\"\"}},\"marker\":{\"colorbar\":{\"outlinewidth\":0,\"ticks\":\"\"}}}],\"scattermapbox\":[{\"type\":\"scattermapbox\",\"marker\":{\"colorbar\":{\"outlinewidth\":0,\"ticks\":\"\"}}}],\"scatterternary\":[{\"type\":\"scatterternary\",\"marker\":{\"colorbar\":{\"outlinewidth\":0,\"ticks\":\"\"}}}],\"scattercarpet\":[{\"type\":\"scattercarpet\",\"marker\":{\"colorbar\":{\"outlinewidth\":0,\"ticks\":\"\"}}}],\"carpet\":[{\"aaxis\":{\"endlinecolor\":\"#2a3f5f\",\"gridcolor\":\"white\",\"linecolor\":\"white\",\"minorgridcolor\":\"white\",\"startlinecolor\":\"#2a3f5f\"},\"baxis\":{\"endlinecolor\":\"#2a3f5f\",\"gridcolor\":\"white\",\"linecolor\":\"white\",\"minorgridcolor\":\"white\",\"startlinecolor\":\"#2a3f5f\"},\"type\":\"carpet\"}],\"table\":[{\"cells\":{\"fill\":{\"color\":\"#EBF0F8\"},\"line\":{\"color\":\"white\"}},\"header\":{\"fill\":{\"color\":\"#C8D4E3\"},\"line\":{\"color\":\"white\"}},\"type\":\"table\"}],\"barpolar\":[{\"marker\":{\"line\":{\"color\":\"#E5ECF6\",\"width\":0.5},\"pattern\":{\"fillmode\":\"overlay\",\"size\":10,\"solidity\":0.2}},\"type\":\"barpolar\"}],\"pie\":[{\"automargin\":true,\"type\":\"pie\"}]},\"layout\":{\"autotypenumbers\":\"strict\",\"colorway\":[\"#636efa\",\"#EF553B\",\"#00cc96\",\"#ab63fa\",\"#FFA15A\",\"#19d3f3\",\"#FF6692\",\"#B6E880\",\"#FF97FF\",\"#FECB52\"],\"font\":{\"color\":\"#2a3f5f\"},\"hovermode\":\"closest\",\"hoverlabel\":{\"align\":\"left\"},\"paper_bgcolor\":\"white\",\"plot_bgcolor\":\"#E5ECF6\",\"polar\":{\"bgcolor\":\"#E5ECF6\",\"angularaxis\":{\"gridcolor\":\"white\",\"linecolor\":\"white\",\"ticks\":\"\"},\"radialaxis\":{\"gridcolor\":\"white\",\"linecolor\":\"white\",\"ticks\":\"\"}},\"ternary\":{\"bgcolor\":\"#E5ECF6\",\"aaxis\":{\"gridcolor\":\"white\",\"linecolor\":\"white\",\"ticks\":\"\"},\"baxis\":{\"gridcolor\":\"white\",\"linecolor\":\"white\",\"ticks\":\"\"},\"caxis\":{\"gridcolor\":\"white\",\"linecolor\":\"white\",\"ticks\":\"\"}},\"coloraxis\":{\"colorbar\":{\"outlinewidth\":0,\"ticks\":\"\"}},\"colorscale\":{\"sequential\":[[0.0,\"#0d0887\"],[0.1111111111111111,\"#46039f\"],[0.2222222222222222,\"#7201a8\"],[0.3333333333333333,\"#9c179e\"],[0.4444444444444444,\"#bd3786\"],[0.5555555555555556,\"#d8576b\"],[0.6666666666666666,\"#ed7953\"],[0.7777777777777778,\"#fb9f3a\"],[0.8888888888888888,\"#fdca26\"],[1.0,\"#f0f921\"]],\"sequentialminus\":[[0.0,\"#0d0887\"],[0.1111111111111111,\"#46039f\"],[0.2222222222222222,\"#7201a8\"],[0.3333333333333333,\"#9c179e\"],[0.4444444444444444,\"#bd3786\"],[0.5555555555555556,\"#d8576b\"],[0.6666666666666666,\"#ed7953\"],[0.7777777777777778,\"#fb9f3a\"],[0.8888888888888888,\"#fdca26\"],[1.0,\"#f0f921\"]],\"diverging\":[[0,\"#8e0152\"],[0.1,\"#c51b7d\"],[0.2,\"#de77ae\"],[0.3,\"#f1b6da\"],[0.4,\"#fde0ef\"],[0.5,\"#f7f7f7\"],[0.6,\"#e6f5d0\"],[0.7,\"#b8e186\"],[0.8,\"#7fbc41\"],[0.9,\"#4d9221\"],[1,\"#276419\"]]},\"xaxis\":{\"gridcolor\":\"white\",\"linecolor\":\"white\",\"ticks\":\"\",\"title\":{\"standoff\":15},\"zerolinecolor\":\"white\",\"automargin\":true,\"zerolinewidth\":2},\"yaxis\":{\"gridcolor\":\"white\",\"linecolor\":\"white\",\"ticks\":\"\",\"title\":{\"standoff\":15},\"zerolinecolor\":\"white\",\"automargin\":true,\"zerolinewidth\":2},\"scene\":{\"xaxis\":{\"backgroundcolor\":\"#E5ECF6\",\"gridcolor\":\"white\",\"linecolor\":\"white\",\"showbackground\":true,\"ticks\":\"\",\"zerolinecolor\":\"white\",\"gridwidth\":2},\"yaxis\":{\"backgroundcolor\":\"#E5ECF6\",\"gridcolor\":\"white\",\"linecolor\":\"white\",\"showbackground\":true,\"ticks\":\"\",\"zerolinecolor\":\"white\",\"gridwidth\":2},\"zaxis\":{\"backgroundcolor\":\"#E5ECF6\",\"gridcolor\":\"white\",\"linecolor\":\"white\",\"showbackground\":true,\"ticks\":\"\",\"zerolinecolor\":\"white\",\"gridwidth\":2}},\"shapedefaults\":{\"line\":{\"color\":\"#2a3f5f\"}},\"annotationdefaults\":{\"arrowcolor\":\"#2a3f5f\",\"arrowhead\":0,\"arrowwidth\":1},\"geo\":{\"bgcolor\":\"white\",\"landcolor\":\"#E5ECF6\",\"subunitcolor\":\"white\",\"showland\":true,\"showlakes\":true,\"lakecolor\":\"white\"},\"title\":{\"x\":0.05},\"mapbox\":{\"style\":\"light\"}}},\"title\":{\"text\":\"\\u0420\\u0430\\u0441\\u043f\\u0440\\u0435\\u0434\\u0435\\u043b\\u0435\\u043d\\u0438\\u0435 Library Concentration \\u0434\\u043b\\u044f RNA \\u043e\\u0431\\u0440\\u0430\\u0437\\u043e\\u0432 (pass - blue bin, fail - red bin)\"},\"yaxis\":{\"title\":{\"text\":\"\\u041a\\u043e\\u043b\\u0438\\u0447\\u0435\\u0441\\u0442\\u0432\\u043e \\u043e\\u0431\\u0440\\u0430\\u0437\\u0446\\u043e\\u0432\"}},\"xaxis\":{\"tickangle\":45}},                        {\"responsive\": true}                    ).then(function(){\n",
       "                            \n",
       "var gd = document.getElementById('c14f4579-6a14-4c6f-b39d-16add22b42fa');\n",
       "var x = new MutationObserver(function (mutations, observer) {{\n",
       "        var display = window.getComputedStyle(gd).display;\n",
       "        if (!display || display === 'none') {{\n",
       "            console.log([gd, 'removed!']);\n",
       "            Plotly.purge(gd);\n",
       "            observer.disconnect();\n",
       "        }}\n",
       "}});\n",
       "\n",
       "// Listen for the removal of the full notebook cells\n",
       "var notebookContainer = gd.closest('#notebook-container');\n",
       "if (notebookContainer) {{\n",
       "    x.observe(notebookContainer, {childList: true});\n",
       "}}\n",
       "\n",
       "// Listen for the clearing of the current output cell\n",
       "var outputEl = gd.closest('.output');\n",
       "if (outputEl) {{\n",
       "    x.observe(outputEl, {childList: true});\n",
       "}}\n",
       "\n",
       "                        })                };                });            </script>        </div>"
      ]
     },
     "metadata": {},
     "output_type": "display_data"
    }
   ],
   "source": [
    "library_concentration_report[\"Library Concentration_bin_color_rna\"] = np.select(\n",
    "    [\n",
    "        (library_concentration_report[\"left_border\"] <= 15) \n",
    "        | (library_concentration_report[\"right_border\"] > 110)\n",
    "    ],[red_color],default=blue_color\n",
    ")\n",
    "\n",
    "fig = go.Figure()\n",
    "\n",
    "fig.add_trace(\n",
    "    go.Bar(\n",
    "        x=library_concentration_report[\"Library Concentration_bin_label\"], \n",
    "        y=library_concentration_report[\"RNA\"],\n",
    "        marker_color=library_concentration_report[\"Library Concentration_bin_color_rna\"]\n",
    "    )\n",
    ")\n",
    "\n",
    "fig.update_layout(\n",
    "    title_text=\"Распределение Library Concentration для RNA образов (pass - blue bin, fail - red bin)\",\n",
    "    yaxis_title=\"Количество образцов\"\n",
    ")\n",
    "\n",
    "fig.update_xaxes(tickangle=45)\n",
    "\n",
    "fig.show()"
   ]
  },
  {
   "cell_type": "markdown",
   "id": "699128e7",
   "metadata": {},
   "source": [
    "### Исключениеобразцов"
   ]
  },
  {
   "cell_type": "markdown",
   "id": "73ef1cd0",
   "metadata": {},
   "source": [
    "#### Процент библиотек с пропущенными значениями указанных для фильтра столбцов по проектам"
   ]
  },
  {
   "cell_type": "code",
   "execution_count": 202,
   "id": "10b997de",
   "metadata": {},
   "outputs": [],
   "source": [
    "columns_for_analysis = [\n",
    "    \"Library construction kit\",\n",
    "    \"Library prob set kit\",\n",
    "    \"Extraction kit\",\n",
    "]"
   ]
  },
  {
   "cell_type": "code",
   "execution_count": 203,
   "id": "622c4898",
   "metadata": {},
   "outputs": [],
   "source": [
    "df[\"total_library_number\"] = df.groupby(\"Project\")[\"Library Lab_ID \\n(unique)\"].transform(\"nunique\")"
   ]
  },
  {
   "cell_type": "code",
   "execution_count": 204,
   "id": "686e9dd6",
   "metadata": {},
   "outputs": [],
   "source": [
    "empty_columns_report = pd.melt(\n",
    "    df,\n",
    "    id_vars=[\"Project\",\"total_library_number\",\"Library Lab_ID \\n(unique)\"],\n",
    "    value_vars=columns_for_analysis\n",
    ")\n",
    "\n",
    "empty_columns_report = empty_columns_report[empty_columns_report[\"value\"].isna()].drop_duplicates()\n",
    "\n",
    "empty_columns_report_pivoted = pd.pivot_table(\n",
    "    (\n",
    "        empty_columns_report\n",
    "        .groupby([\"Project\",\"total_library_number\",\"variable\"])\n",
    "        .agg({\"Library Lab_ID \\n(unique)\":\"nunique\"})\n",
    "    ).reset_index(),\n",
    "    index=[\"Project\",\"total_library_number\"],\n",
    "    columns=\"variable\",\n",
    "    values=\"Library Lab_ID \\n(unique)\"\n",
    ").fillna(0).astype(int).reset_index()\n",
    "\n",
    "for col in columns_for_analysis:\n",
    "    empty_columns_report_pivoted[f\"{col} nan %\"] = round(\n",
    "        empty_columns_report_pivoted[col] / empty_columns_report_pivoted[\"total_library_number\"] * 100, 2\n",
    "    )\n",
    "columns_for_analysis_in_percent = list(map(lambda col: f\"{col} nan %\",columns_for_analysis))\n",
    "\n",
    "total_projects = df[[\"Project\"]].drop_duplicates()\n",
    "\n",
    "final_report = total_projects.merge(\n",
    "    empty_columns_report_pivoted[\n",
    "        [\"Project\"] + columns_for_analysis_in_percent\n",
    "    ],\n",
    "    how=\"left\",\n",
    "    on=\"Project\"\n",
    ").set_index(\"Project\").fillna(0).sort_values(by=columns_for_analysis_in_percent,ascending=False)"
   ]
  },
  {
   "cell_type": "code",
   "execution_count": 207,
   "id": "00da4c0d",
   "metadata": {},
   "outputs": [
    {
     "data": {
      "application/vnd.plotly.v1+json": {
       "config": {
        "plotlyServerURL": "https://plot.ly"
       },
       "data": [
        {
         "coloraxis": "coloraxis",
         "hovertemplate": "x: %{x}<br>Project: %{y}<br>color: %{z}<extra></extra>",
         "name": "0",
         "texttemplate": "%{z}",
         "type": "heatmap",
         "x": [
          "Library construction kit nan %",
          "Library prob set kit nan %",
          "Extraction kit nan %"
         ],
         "xaxis": "x",
         "y": [
          "HRS validation",
          "Heme validation",
          "MDACC_Yam_Artemis",
          "cfDNA TMB references",
          "cfDNA Fusions",
          "MGH.David Ting.PDAC",
          "NCI_FL_Roschewski",
          "Mayo_DIAL_Villasboas",
          "WCMC_CUP_Sternberg_Retrospective",
          "MDA.Heymach.SCLC",
          "cfDNA Plasma",
          "FEASY_trial",
          "Immune Status",
          "MDA.Strati.FL.Blood",
          "cfDNA",
          "cfRNA Deconvolution",
          "WU.Huang.Meningioma",
          "Cell Atlas",
          "Other",
          "Bravo Validation",
          "Coverage map",
          "HRD validation",
          "V8+UTR validation",
          "MDA.Flowers.PTLD",
          "UM.Valdes.BC.cfDNA"
         ],
         "yaxis": "y",
         "z": [
          [
           100,
           100,
           0
          ],
          [
           100,
           100,
           0
          ],
          [
           70.27,
           72.97,
           0
          ],
          [
           66.67,
           66.67,
           0
          ],
          [
           51.33,
           94.13,
           94.13
          ],
          [
           31.58,
           31.58,
           0
          ],
          [
           21.54,
           21.54,
           80
          ],
          [
           18.52,
           18.52,
           0
          ],
          [
           12.77,
           12.77,
           97.87
          ],
          [
           11.83,
           11.83,
           47.31
          ],
          [
           6.25,
           100,
           0
          ],
          [
           5.88,
           23.53,
           0
          ],
          [
           0,
           100,
           0
          ],
          [
           0,
           100,
           0
          ],
          [
           0,
           100,
           0
          ],
          [
           0,
           100,
           0
          ],
          [
           0,
           100,
           0
          ],
          [
           0,
           100,
           0
          ],
          [
           0,
           54.84,
           1.08
          ],
          [
           0,
           4.44,
           0
          ],
          [
           0,
           0,
           0
          ],
          [
           0,
           0,
           0
          ],
          [
           0,
           0,
           0
          ],
          [
           0,
           0,
           0
          ],
          [
           0,
           0,
           0
          ]
         ]
        }
       ],
       "layout": {
        "coloraxis": {
         "colorscale": [
          [
           0,
           "rgb(0,0,255)"
          ],
          [
           1,
           "rgb(255,0,0)"
          ]
         ]
        },
        "margin": {
         "t": 60
        },
        "template": {
         "data": {
          "bar": [
           {
            "error_x": {
             "color": "#2a3f5f"
            },
            "error_y": {
             "color": "#2a3f5f"
            },
            "marker": {
             "line": {
              "color": "#E5ECF6",
              "width": 0.5
             },
             "pattern": {
              "fillmode": "overlay",
              "size": 10,
              "solidity": 0.2
             }
            },
            "type": "bar"
           }
          ],
          "barpolar": [
           {
            "marker": {
             "line": {
              "color": "#E5ECF6",
              "width": 0.5
             },
             "pattern": {
              "fillmode": "overlay",
              "size": 10,
              "solidity": 0.2
             }
            },
            "type": "barpolar"
           }
          ],
          "carpet": [
           {
            "aaxis": {
             "endlinecolor": "#2a3f5f",
             "gridcolor": "white",
             "linecolor": "white",
             "minorgridcolor": "white",
             "startlinecolor": "#2a3f5f"
            },
            "baxis": {
             "endlinecolor": "#2a3f5f",
             "gridcolor": "white",
             "linecolor": "white",
             "minorgridcolor": "white",
             "startlinecolor": "#2a3f5f"
            },
            "type": "carpet"
           }
          ],
          "choropleth": [
           {
            "colorbar": {
             "outlinewidth": 0,
             "ticks": ""
            },
            "type": "choropleth"
           }
          ],
          "contour": [
           {
            "colorbar": {
             "outlinewidth": 0,
             "ticks": ""
            },
            "colorscale": [
             [
              0,
              "#0d0887"
             ],
             [
              0.1111111111111111,
              "#46039f"
             ],
             [
              0.2222222222222222,
              "#7201a8"
             ],
             [
              0.3333333333333333,
              "#9c179e"
             ],
             [
              0.4444444444444444,
              "#bd3786"
             ],
             [
              0.5555555555555556,
              "#d8576b"
             ],
             [
              0.6666666666666666,
              "#ed7953"
             ],
             [
              0.7777777777777778,
              "#fb9f3a"
             ],
             [
              0.8888888888888888,
              "#fdca26"
             ],
             [
              1,
              "#f0f921"
             ]
            ],
            "type": "contour"
           }
          ],
          "contourcarpet": [
           {
            "colorbar": {
             "outlinewidth": 0,
             "ticks": ""
            },
            "type": "contourcarpet"
           }
          ],
          "heatmap": [
           {
            "colorbar": {
             "outlinewidth": 0,
             "ticks": ""
            },
            "colorscale": [
             [
              0,
              "#0d0887"
             ],
             [
              0.1111111111111111,
              "#46039f"
             ],
             [
              0.2222222222222222,
              "#7201a8"
             ],
             [
              0.3333333333333333,
              "#9c179e"
             ],
             [
              0.4444444444444444,
              "#bd3786"
             ],
             [
              0.5555555555555556,
              "#d8576b"
             ],
             [
              0.6666666666666666,
              "#ed7953"
             ],
             [
              0.7777777777777778,
              "#fb9f3a"
             ],
             [
              0.8888888888888888,
              "#fdca26"
             ],
             [
              1,
              "#f0f921"
             ]
            ],
            "type": "heatmap"
           }
          ],
          "heatmapgl": [
           {
            "colorbar": {
             "outlinewidth": 0,
             "ticks": ""
            },
            "colorscale": [
             [
              0,
              "#0d0887"
             ],
             [
              0.1111111111111111,
              "#46039f"
             ],
             [
              0.2222222222222222,
              "#7201a8"
             ],
             [
              0.3333333333333333,
              "#9c179e"
             ],
             [
              0.4444444444444444,
              "#bd3786"
             ],
             [
              0.5555555555555556,
              "#d8576b"
             ],
             [
              0.6666666666666666,
              "#ed7953"
             ],
             [
              0.7777777777777778,
              "#fb9f3a"
             ],
             [
              0.8888888888888888,
              "#fdca26"
             ],
             [
              1,
              "#f0f921"
             ]
            ],
            "type": "heatmapgl"
           }
          ],
          "histogram": [
           {
            "marker": {
             "pattern": {
              "fillmode": "overlay",
              "size": 10,
              "solidity": 0.2
             }
            },
            "type": "histogram"
           }
          ],
          "histogram2d": [
           {
            "colorbar": {
             "outlinewidth": 0,
             "ticks": ""
            },
            "colorscale": [
             [
              0,
              "#0d0887"
             ],
             [
              0.1111111111111111,
              "#46039f"
             ],
             [
              0.2222222222222222,
              "#7201a8"
             ],
             [
              0.3333333333333333,
              "#9c179e"
             ],
             [
              0.4444444444444444,
              "#bd3786"
             ],
             [
              0.5555555555555556,
              "#d8576b"
             ],
             [
              0.6666666666666666,
              "#ed7953"
             ],
             [
              0.7777777777777778,
              "#fb9f3a"
             ],
             [
              0.8888888888888888,
              "#fdca26"
             ],
             [
              1,
              "#f0f921"
             ]
            ],
            "type": "histogram2d"
           }
          ],
          "histogram2dcontour": [
           {
            "colorbar": {
             "outlinewidth": 0,
             "ticks": ""
            },
            "colorscale": [
             [
              0,
              "#0d0887"
             ],
             [
              0.1111111111111111,
              "#46039f"
             ],
             [
              0.2222222222222222,
              "#7201a8"
             ],
             [
              0.3333333333333333,
              "#9c179e"
             ],
             [
              0.4444444444444444,
              "#bd3786"
             ],
             [
              0.5555555555555556,
              "#d8576b"
             ],
             [
              0.6666666666666666,
              "#ed7953"
             ],
             [
              0.7777777777777778,
              "#fb9f3a"
             ],
             [
              0.8888888888888888,
              "#fdca26"
             ],
             [
              1,
              "#f0f921"
             ]
            ],
            "type": "histogram2dcontour"
           }
          ],
          "mesh3d": [
           {
            "colorbar": {
             "outlinewidth": 0,
             "ticks": ""
            },
            "type": "mesh3d"
           }
          ],
          "parcoords": [
           {
            "line": {
             "colorbar": {
              "outlinewidth": 0,
              "ticks": ""
             }
            },
            "type": "parcoords"
           }
          ],
          "pie": [
           {
            "automargin": true,
            "type": "pie"
           }
          ],
          "scatter": [
           {
            "fillpattern": {
             "fillmode": "overlay",
             "size": 10,
             "solidity": 0.2
            },
            "type": "scatter"
           }
          ],
          "scatter3d": [
           {
            "line": {
             "colorbar": {
              "outlinewidth": 0,
              "ticks": ""
             }
            },
            "marker": {
             "colorbar": {
              "outlinewidth": 0,
              "ticks": ""
             }
            },
            "type": "scatter3d"
           }
          ],
          "scattercarpet": [
           {
            "marker": {
             "colorbar": {
              "outlinewidth": 0,
              "ticks": ""
             }
            },
            "type": "scattercarpet"
           }
          ],
          "scattergeo": [
           {
            "marker": {
             "colorbar": {
              "outlinewidth": 0,
              "ticks": ""
             }
            },
            "type": "scattergeo"
           }
          ],
          "scattergl": [
           {
            "marker": {
             "colorbar": {
              "outlinewidth": 0,
              "ticks": ""
             }
            },
            "type": "scattergl"
           }
          ],
          "scattermapbox": [
           {
            "marker": {
             "colorbar": {
              "outlinewidth": 0,
              "ticks": ""
             }
            },
            "type": "scattermapbox"
           }
          ],
          "scatterpolar": [
           {
            "marker": {
             "colorbar": {
              "outlinewidth": 0,
              "ticks": ""
             }
            },
            "type": "scatterpolar"
           }
          ],
          "scatterpolargl": [
           {
            "marker": {
             "colorbar": {
              "outlinewidth": 0,
              "ticks": ""
             }
            },
            "type": "scatterpolargl"
           }
          ],
          "scatterternary": [
           {
            "marker": {
             "colorbar": {
              "outlinewidth": 0,
              "ticks": ""
             }
            },
            "type": "scatterternary"
           }
          ],
          "surface": [
           {
            "colorbar": {
             "outlinewidth": 0,
             "ticks": ""
            },
            "colorscale": [
             [
              0,
              "#0d0887"
             ],
             [
              0.1111111111111111,
              "#46039f"
             ],
             [
              0.2222222222222222,
              "#7201a8"
             ],
             [
              0.3333333333333333,
              "#9c179e"
             ],
             [
              0.4444444444444444,
              "#bd3786"
             ],
             [
              0.5555555555555556,
              "#d8576b"
             ],
             [
              0.6666666666666666,
              "#ed7953"
             ],
             [
              0.7777777777777778,
              "#fb9f3a"
             ],
             [
              0.8888888888888888,
              "#fdca26"
             ],
             [
              1,
              "#f0f921"
             ]
            ],
            "type": "surface"
           }
          ],
          "table": [
           {
            "cells": {
             "fill": {
              "color": "#EBF0F8"
             },
             "line": {
              "color": "white"
             }
            },
            "header": {
             "fill": {
              "color": "#C8D4E3"
             },
             "line": {
              "color": "white"
             }
            },
            "type": "table"
           }
          ]
         },
         "layout": {
          "annotationdefaults": {
           "arrowcolor": "#2a3f5f",
           "arrowhead": 0,
           "arrowwidth": 1
          },
          "autotypenumbers": "strict",
          "coloraxis": {
           "colorbar": {
            "outlinewidth": 0,
            "ticks": ""
           }
          },
          "colorscale": {
           "diverging": [
            [
             0,
             "#8e0152"
            ],
            [
             0.1,
             "#c51b7d"
            ],
            [
             0.2,
             "#de77ae"
            ],
            [
             0.3,
             "#f1b6da"
            ],
            [
             0.4,
             "#fde0ef"
            ],
            [
             0.5,
             "#f7f7f7"
            ],
            [
             0.6,
             "#e6f5d0"
            ],
            [
             0.7,
             "#b8e186"
            ],
            [
             0.8,
             "#7fbc41"
            ],
            [
             0.9,
             "#4d9221"
            ],
            [
             1,
             "#276419"
            ]
           ],
           "sequential": [
            [
             0,
             "#0d0887"
            ],
            [
             0.1111111111111111,
             "#46039f"
            ],
            [
             0.2222222222222222,
             "#7201a8"
            ],
            [
             0.3333333333333333,
             "#9c179e"
            ],
            [
             0.4444444444444444,
             "#bd3786"
            ],
            [
             0.5555555555555556,
             "#d8576b"
            ],
            [
             0.6666666666666666,
             "#ed7953"
            ],
            [
             0.7777777777777778,
             "#fb9f3a"
            ],
            [
             0.8888888888888888,
             "#fdca26"
            ],
            [
             1,
             "#f0f921"
            ]
           ],
           "sequentialminus": [
            [
             0,
             "#0d0887"
            ],
            [
             0.1111111111111111,
             "#46039f"
            ],
            [
             0.2222222222222222,
             "#7201a8"
            ],
            [
             0.3333333333333333,
             "#9c179e"
            ],
            [
             0.4444444444444444,
             "#bd3786"
            ],
            [
             0.5555555555555556,
             "#d8576b"
            ],
            [
             0.6666666666666666,
             "#ed7953"
            ],
            [
             0.7777777777777778,
             "#fb9f3a"
            ],
            [
             0.8888888888888888,
             "#fdca26"
            ],
            [
             1,
             "#f0f921"
            ]
           ]
          },
          "colorway": [
           "#636efa",
           "#EF553B",
           "#00cc96",
           "#ab63fa",
           "#FFA15A",
           "#19d3f3",
           "#FF6692",
           "#B6E880",
           "#FF97FF",
           "#FECB52"
          ],
          "font": {
           "color": "#2a3f5f"
          },
          "geo": {
           "bgcolor": "white",
           "lakecolor": "white",
           "landcolor": "#E5ECF6",
           "showlakes": true,
           "showland": true,
           "subunitcolor": "white"
          },
          "hoverlabel": {
           "align": "left"
          },
          "hovermode": "closest",
          "mapbox": {
           "style": "light"
          },
          "paper_bgcolor": "white",
          "plot_bgcolor": "#E5ECF6",
          "polar": {
           "angularaxis": {
            "gridcolor": "white",
            "linecolor": "white",
            "ticks": ""
           },
           "bgcolor": "#E5ECF6",
           "radialaxis": {
            "gridcolor": "white",
            "linecolor": "white",
            "ticks": ""
           }
          },
          "scene": {
           "xaxis": {
            "backgroundcolor": "#E5ECF6",
            "gridcolor": "white",
            "gridwidth": 2,
            "linecolor": "white",
            "showbackground": true,
            "ticks": "",
            "zerolinecolor": "white"
           },
           "yaxis": {
            "backgroundcolor": "#E5ECF6",
            "gridcolor": "white",
            "gridwidth": 2,
            "linecolor": "white",
            "showbackground": true,
            "ticks": "",
            "zerolinecolor": "white"
           },
           "zaxis": {
            "backgroundcolor": "#E5ECF6",
            "gridcolor": "white",
            "gridwidth": 2,
            "linecolor": "white",
            "showbackground": true,
            "ticks": "",
            "zerolinecolor": "white"
           }
          },
          "shapedefaults": {
           "line": {
            "color": "#2a3f5f"
           }
          },
          "ternary": {
           "aaxis": {
            "gridcolor": "white",
            "linecolor": "white",
            "ticks": ""
           },
           "baxis": {
            "gridcolor": "white",
            "linecolor": "white",
            "ticks": ""
           },
           "bgcolor": "#E5ECF6",
           "caxis": {
            "gridcolor": "white",
            "linecolor": "white",
            "ticks": ""
           }
          },
          "title": {
           "x": 0.05
          },
          "xaxis": {
           "automargin": true,
           "gridcolor": "white",
           "linecolor": "white",
           "ticks": "",
           "title": {
            "standoff": 15
           },
           "zerolinecolor": "white",
           "zerolinewidth": 2
          },
          "yaxis": {
           "automargin": true,
           "gridcolor": "white",
           "linecolor": "white",
           "ticks": "",
           "title": {
            "standoff": 15
           },
           "zerolinecolor": "white",
           "zerolinewidth": 2
          }
         }
        },
        "xaxis": {
         "anchor": "y",
         "domain": [
          0,
          1
         ],
         "side": "top"
        },
        "yaxis": {
         "anchor": "x",
         "autorange": "reversed",
         "domain": [
          0,
          1
         ],
         "title": {
          "text": "Project"
         }
        }
       }
      },
      "text/html": [
       "<div>                            <div id=\"1f06cda0-c92a-4bcd-b53c-6344e887cfd7\" class=\"plotly-graph-div\" style=\"height:525px; width:100%;\"></div>            <script type=\"text/javascript\">                require([\"plotly\"], function(Plotly) {                    window.PLOTLYENV=window.PLOTLYENV || {};                                    if (document.getElementById(\"1f06cda0-c92a-4bcd-b53c-6344e887cfd7\")) {                    Plotly.newPlot(                        \"1f06cda0-c92a-4bcd-b53c-6344e887cfd7\",                        [{\"coloraxis\":\"coloraxis\",\"name\":\"0\",\"texttemplate\":\"%{z}\",\"x\":[\"Library construction kit nan %\",\"Library prob set kit nan %\",\"Extraction kit nan %\"],\"y\":[\"HRS validation\",\"Heme validation\",\"MDACC_Yam_Artemis\",\"cfDNA TMB references\",\"cfDNA Fusions\",\"MGH.David Ting.PDAC\",\"NCI_FL_Roschewski\",\"Mayo_DIAL_Villasboas\",\"WCMC_CUP_Sternberg_Retrospective\",\"MDA.Heymach.SCLC\",\"cfDNA Plasma\",\"FEASY_trial\",\"Immune Status\",\"MDA.Strati.FL.Blood\",\"cfDNA\",\"cfRNA Deconvolution\",\"WU.Huang.Meningioma\",\"Cell Atlas\",\"Other\",\"Bravo Validation\",\"Coverage map\",\"HRD validation\",\"V8+UTR validation\",\"MDA.Flowers.PTLD\",\"UM.Valdes.BC.cfDNA\"],\"z\":[[100.0,100.0,0.0],[100.0,100.0,0.0],[70.27,72.97,0.0],[66.67,66.67,0.0],[51.33,94.13,94.13],[31.58,31.58,0.0],[21.54,21.54,80.0],[18.52,18.52,0.0],[12.77,12.77,97.87],[11.83,11.83,47.31],[6.25,100.0,0.0],[5.88,23.53,0.0],[0.0,100.0,0.0],[0.0,100.0,0.0],[0.0,100.0,0.0],[0.0,100.0,0.0],[0.0,100.0,0.0],[0.0,100.0,0.0],[0.0,54.84,1.08],[0.0,4.44,0.0],[0.0,0.0,0.0],[0.0,0.0,0.0],[0.0,0.0,0.0],[0.0,0.0,0.0],[0.0,0.0,0.0]],\"type\":\"heatmap\",\"xaxis\":\"x\",\"yaxis\":\"y\",\"hovertemplate\":\"x: %{x}<br>Project: %{y}<br>color: %{z}<extra></extra>\"}],                        {\"template\":{\"data\":{\"histogram2dcontour\":[{\"type\":\"histogram2dcontour\",\"colorbar\":{\"outlinewidth\":0,\"ticks\":\"\"},\"colorscale\":[[0.0,\"#0d0887\"],[0.1111111111111111,\"#46039f\"],[0.2222222222222222,\"#7201a8\"],[0.3333333333333333,\"#9c179e\"],[0.4444444444444444,\"#bd3786\"],[0.5555555555555556,\"#d8576b\"],[0.6666666666666666,\"#ed7953\"],[0.7777777777777778,\"#fb9f3a\"],[0.8888888888888888,\"#fdca26\"],[1.0,\"#f0f921\"]]}],\"choropleth\":[{\"type\":\"choropleth\",\"colorbar\":{\"outlinewidth\":0,\"ticks\":\"\"}}],\"histogram2d\":[{\"type\":\"histogram2d\",\"colorbar\":{\"outlinewidth\":0,\"ticks\":\"\"},\"colorscale\":[[0.0,\"#0d0887\"],[0.1111111111111111,\"#46039f\"],[0.2222222222222222,\"#7201a8\"],[0.3333333333333333,\"#9c179e\"],[0.4444444444444444,\"#bd3786\"],[0.5555555555555556,\"#d8576b\"],[0.6666666666666666,\"#ed7953\"],[0.7777777777777778,\"#fb9f3a\"],[0.8888888888888888,\"#fdca26\"],[1.0,\"#f0f921\"]]}],\"heatmap\":[{\"type\":\"heatmap\",\"colorbar\":{\"outlinewidth\":0,\"ticks\":\"\"},\"colorscale\":[[0.0,\"#0d0887\"],[0.1111111111111111,\"#46039f\"],[0.2222222222222222,\"#7201a8\"],[0.3333333333333333,\"#9c179e\"],[0.4444444444444444,\"#bd3786\"],[0.5555555555555556,\"#d8576b\"],[0.6666666666666666,\"#ed7953\"],[0.7777777777777778,\"#fb9f3a\"],[0.8888888888888888,\"#fdca26\"],[1.0,\"#f0f921\"]]}],\"heatmapgl\":[{\"type\":\"heatmapgl\",\"colorbar\":{\"outlinewidth\":0,\"ticks\":\"\"},\"colorscale\":[[0.0,\"#0d0887\"],[0.1111111111111111,\"#46039f\"],[0.2222222222222222,\"#7201a8\"],[0.3333333333333333,\"#9c179e\"],[0.4444444444444444,\"#bd3786\"],[0.5555555555555556,\"#d8576b\"],[0.6666666666666666,\"#ed7953\"],[0.7777777777777778,\"#fb9f3a\"],[0.8888888888888888,\"#fdca26\"],[1.0,\"#f0f921\"]]}],\"contourcarpet\":[{\"type\":\"contourcarpet\",\"colorbar\":{\"outlinewidth\":0,\"ticks\":\"\"}}],\"contour\":[{\"type\":\"contour\",\"colorbar\":{\"outlinewidth\":0,\"ticks\":\"\"},\"colorscale\":[[0.0,\"#0d0887\"],[0.1111111111111111,\"#46039f\"],[0.2222222222222222,\"#7201a8\"],[0.3333333333333333,\"#9c179e\"],[0.4444444444444444,\"#bd3786\"],[0.5555555555555556,\"#d8576b\"],[0.6666666666666666,\"#ed7953\"],[0.7777777777777778,\"#fb9f3a\"],[0.8888888888888888,\"#fdca26\"],[1.0,\"#f0f921\"]]}],\"surface\":[{\"type\":\"surface\",\"colorbar\":{\"outlinewidth\":0,\"ticks\":\"\"},\"colorscale\":[[0.0,\"#0d0887\"],[0.1111111111111111,\"#46039f\"],[0.2222222222222222,\"#7201a8\"],[0.3333333333333333,\"#9c179e\"],[0.4444444444444444,\"#bd3786\"],[0.5555555555555556,\"#d8576b\"],[0.6666666666666666,\"#ed7953\"],[0.7777777777777778,\"#fb9f3a\"],[0.8888888888888888,\"#fdca26\"],[1.0,\"#f0f921\"]]}],\"mesh3d\":[{\"type\":\"mesh3d\",\"colorbar\":{\"outlinewidth\":0,\"ticks\":\"\"}}],\"scatter\":[{\"fillpattern\":{\"fillmode\":\"overlay\",\"size\":10,\"solidity\":0.2},\"type\":\"scatter\"}],\"parcoords\":[{\"type\":\"parcoords\",\"line\":{\"colorbar\":{\"outlinewidth\":0,\"ticks\":\"\"}}}],\"scatterpolargl\":[{\"type\":\"scatterpolargl\",\"marker\":{\"colorbar\":{\"outlinewidth\":0,\"ticks\":\"\"}}}],\"bar\":[{\"error_x\":{\"color\":\"#2a3f5f\"},\"error_y\":{\"color\":\"#2a3f5f\"},\"marker\":{\"line\":{\"color\":\"#E5ECF6\",\"width\":0.5},\"pattern\":{\"fillmode\":\"overlay\",\"size\":10,\"solidity\":0.2}},\"type\":\"bar\"}],\"scattergeo\":[{\"type\":\"scattergeo\",\"marker\":{\"colorbar\":{\"outlinewidth\":0,\"ticks\":\"\"}}}],\"scatterpolar\":[{\"type\":\"scatterpolar\",\"marker\":{\"colorbar\":{\"outlinewidth\":0,\"ticks\":\"\"}}}],\"histogram\":[{\"marker\":{\"pattern\":{\"fillmode\":\"overlay\",\"size\":10,\"solidity\":0.2}},\"type\":\"histogram\"}],\"scattergl\":[{\"type\":\"scattergl\",\"marker\":{\"colorbar\":{\"outlinewidth\":0,\"ticks\":\"\"}}}],\"scatter3d\":[{\"type\":\"scatter3d\",\"line\":{\"colorbar\":{\"outlinewidth\":0,\"ticks\":\"\"}},\"marker\":{\"colorbar\":{\"outlinewidth\":0,\"ticks\":\"\"}}}],\"scattermapbox\":[{\"type\":\"scattermapbox\",\"marker\":{\"colorbar\":{\"outlinewidth\":0,\"ticks\":\"\"}}}],\"scatterternary\":[{\"type\":\"scatterternary\",\"marker\":{\"colorbar\":{\"outlinewidth\":0,\"ticks\":\"\"}}}],\"scattercarpet\":[{\"type\":\"scattercarpet\",\"marker\":{\"colorbar\":{\"outlinewidth\":0,\"ticks\":\"\"}}}],\"carpet\":[{\"aaxis\":{\"endlinecolor\":\"#2a3f5f\",\"gridcolor\":\"white\",\"linecolor\":\"white\",\"minorgridcolor\":\"white\",\"startlinecolor\":\"#2a3f5f\"},\"baxis\":{\"endlinecolor\":\"#2a3f5f\",\"gridcolor\":\"white\",\"linecolor\":\"white\",\"minorgridcolor\":\"white\",\"startlinecolor\":\"#2a3f5f\"},\"type\":\"carpet\"}],\"table\":[{\"cells\":{\"fill\":{\"color\":\"#EBF0F8\"},\"line\":{\"color\":\"white\"}},\"header\":{\"fill\":{\"color\":\"#C8D4E3\"},\"line\":{\"color\":\"white\"}},\"type\":\"table\"}],\"barpolar\":[{\"marker\":{\"line\":{\"color\":\"#E5ECF6\",\"width\":0.5},\"pattern\":{\"fillmode\":\"overlay\",\"size\":10,\"solidity\":0.2}},\"type\":\"barpolar\"}],\"pie\":[{\"automargin\":true,\"type\":\"pie\"}]},\"layout\":{\"autotypenumbers\":\"strict\",\"colorway\":[\"#636efa\",\"#EF553B\",\"#00cc96\",\"#ab63fa\",\"#FFA15A\",\"#19d3f3\",\"#FF6692\",\"#B6E880\",\"#FF97FF\",\"#FECB52\"],\"font\":{\"color\":\"#2a3f5f\"},\"hovermode\":\"closest\",\"hoverlabel\":{\"align\":\"left\"},\"paper_bgcolor\":\"white\",\"plot_bgcolor\":\"#E5ECF6\",\"polar\":{\"bgcolor\":\"#E5ECF6\",\"angularaxis\":{\"gridcolor\":\"white\",\"linecolor\":\"white\",\"ticks\":\"\"},\"radialaxis\":{\"gridcolor\":\"white\",\"linecolor\":\"white\",\"ticks\":\"\"}},\"ternary\":{\"bgcolor\":\"#E5ECF6\",\"aaxis\":{\"gridcolor\":\"white\",\"linecolor\":\"white\",\"ticks\":\"\"},\"baxis\":{\"gridcolor\":\"white\",\"linecolor\":\"white\",\"ticks\":\"\"},\"caxis\":{\"gridcolor\":\"white\",\"linecolor\":\"white\",\"ticks\":\"\"}},\"coloraxis\":{\"colorbar\":{\"outlinewidth\":0,\"ticks\":\"\"}},\"colorscale\":{\"sequential\":[[0.0,\"#0d0887\"],[0.1111111111111111,\"#46039f\"],[0.2222222222222222,\"#7201a8\"],[0.3333333333333333,\"#9c179e\"],[0.4444444444444444,\"#bd3786\"],[0.5555555555555556,\"#d8576b\"],[0.6666666666666666,\"#ed7953\"],[0.7777777777777778,\"#fb9f3a\"],[0.8888888888888888,\"#fdca26\"],[1.0,\"#f0f921\"]],\"sequentialminus\":[[0.0,\"#0d0887\"],[0.1111111111111111,\"#46039f\"],[0.2222222222222222,\"#7201a8\"],[0.3333333333333333,\"#9c179e\"],[0.4444444444444444,\"#bd3786\"],[0.5555555555555556,\"#d8576b\"],[0.6666666666666666,\"#ed7953\"],[0.7777777777777778,\"#fb9f3a\"],[0.8888888888888888,\"#fdca26\"],[1.0,\"#f0f921\"]],\"diverging\":[[0,\"#8e0152\"],[0.1,\"#c51b7d\"],[0.2,\"#de77ae\"],[0.3,\"#f1b6da\"],[0.4,\"#fde0ef\"],[0.5,\"#f7f7f7\"],[0.6,\"#e6f5d0\"],[0.7,\"#b8e186\"],[0.8,\"#7fbc41\"],[0.9,\"#4d9221\"],[1,\"#276419\"]]},\"xaxis\":{\"gridcolor\":\"white\",\"linecolor\":\"white\",\"ticks\":\"\",\"title\":{\"standoff\":15},\"zerolinecolor\":\"white\",\"automargin\":true,\"zerolinewidth\":2},\"yaxis\":{\"gridcolor\":\"white\",\"linecolor\":\"white\",\"ticks\":\"\",\"title\":{\"standoff\":15},\"zerolinecolor\":\"white\",\"automargin\":true,\"zerolinewidth\":2},\"scene\":{\"xaxis\":{\"backgroundcolor\":\"#E5ECF6\",\"gridcolor\":\"white\",\"linecolor\":\"white\",\"showbackground\":true,\"ticks\":\"\",\"zerolinecolor\":\"white\",\"gridwidth\":2},\"yaxis\":{\"backgroundcolor\":\"#E5ECF6\",\"gridcolor\":\"white\",\"linecolor\":\"white\",\"showbackground\":true,\"ticks\":\"\",\"zerolinecolor\":\"white\",\"gridwidth\":2},\"zaxis\":{\"backgroundcolor\":\"#E5ECF6\",\"gridcolor\":\"white\",\"linecolor\":\"white\",\"showbackground\":true,\"ticks\":\"\",\"zerolinecolor\":\"white\",\"gridwidth\":2}},\"shapedefaults\":{\"line\":{\"color\":\"#2a3f5f\"}},\"annotationdefaults\":{\"arrowcolor\":\"#2a3f5f\",\"arrowhead\":0,\"arrowwidth\":1},\"geo\":{\"bgcolor\":\"white\",\"landcolor\":\"#E5ECF6\",\"subunitcolor\":\"white\",\"showland\":true,\"showlakes\":true,\"lakecolor\":\"white\"},\"title\":{\"x\":0.05},\"mapbox\":{\"style\":\"light\"}}},\"xaxis\":{\"anchor\":\"y\",\"domain\":[0.0,1.0],\"side\":\"top\"},\"yaxis\":{\"anchor\":\"x\",\"domain\":[0.0,1.0],\"autorange\":\"reversed\",\"title\":{\"text\":\"Project\"}},\"coloraxis\":{\"colorscale\":[[0.0,\"rgb(0,0,255)\"],[1.0,\"rgb(255,0,0)\"]]},\"margin\":{\"t\":60}},                        {\"responsive\": true}                    ).then(function(){\n",
       "                            \n",
       "var gd = document.getElementById('1f06cda0-c92a-4bcd-b53c-6344e887cfd7');\n",
       "var x = new MutationObserver(function (mutations, observer) {{\n",
       "        var display = window.getComputedStyle(gd).display;\n",
       "        if (!display || display === 'none') {{\n",
       "            console.log([gd, 'removed!']);\n",
       "            Plotly.purge(gd);\n",
       "            observer.disconnect();\n",
       "        }}\n",
       "}});\n",
       "\n",
       "// Listen for the removal of the full notebook cells\n",
       "var notebookContainer = gd.closest('#notebook-container');\n",
       "if (notebookContainer) {{\n",
       "    x.observe(notebookContainer, {childList: true});\n",
       "}}\n",
       "\n",
       "// Listen for the clearing of the current output cell\n",
       "var outputEl = gd.closest('.output');\n",
       "if (outputEl) {{\n",
       "    x.observe(outputEl, {childList: true});\n",
       "}}\n",
       "\n",
       "                        })                };                });            </script>        </div>"
      ]
     },
     "metadata": {},
     "output_type": "display_data"
    }
   ],
   "source": [
    "fig = px.imshow(\n",
    "    final_report,\n",
    "    text_auto=True,\n",
    "    aspect='auto',\n",
    "    color_continuous_scale='Bluered'\n",
    ")\n",
    "\n",
    "fig.update_xaxes(side=\"top\")\n",
    "fig.show()"
   ]
  }
 ],
 "metadata": {
  "kernelspec": {
   "display_name": "Python 3 (ipykernel)",
   "language": "python",
   "name": "python3"
  },
  "language_info": {
   "codemirror_mode": {
    "name": "ipython",
    "version": 3
   },
   "file_extension": ".py",
   "mimetype": "text/x-python",
   "name": "python",
   "nbconvert_exporter": "python",
   "pygments_lexer": "ipython3",
   "version": "3.10.4"
  }
 },
 "nbformat": 4,
 "nbformat_minor": 5
}
